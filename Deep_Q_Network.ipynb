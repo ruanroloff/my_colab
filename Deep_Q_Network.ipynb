{
  "nbformat": 4,
  "nbformat_minor": 0,
  "metadata": {
    "kernelspec": {
      "display_name": "Python 3",
      "language": "python",
      "name": "python3"
    },
    "language_info": {
      "codemirror_mode": {
        "name": "ipython",
        "version": 3
      },
      "file_extension": ".py",
      "mimetype": "text/x-python",
      "name": "python",
      "nbconvert_exporter": "python",
      "pygments_lexer": "ipython3",
      "version": "3.6.3"
    },
    "colab": {
      "name": "Deep_Q_Network.ipynb",
      "provenance": [],
      "collapsed_sections": [],
      "include_colab_link": true
    },
    "accelerator": "GPU"
  },
  "cells": [
    {
      "cell_type": "markdown",
      "metadata": {
        "id": "view-in-github",
        "colab_type": "text"
      },
      "source": [
        "<a href=\"https://colab.research.google.com/github/ruanroloff/my_colab/blob/main/Deep_Q_Network.ipynb\" target=\"_parent\"><img src=\"https://colab.research.google.com/assets/colab-badge.svg\" alt=\"Open In Colab\"/></a>"
      ]
    },
    {
      "cell_type": "markdown",
      "metadata": {
        "id": "u5WMrz6HMT3R"
      },
      "source": [
        "# Deep Q-Network (DQN)\n",
        "---\n",
        "In this notebook, you will implement a DQN agent with OpenAI Gym's LunarLander-v2 environment.\n",
        "\n",
        "### 1. Import the Necessary Packages"
      ]
    },
    {
      "cell_type": "code",
      "metadata": {
        "id": "uG56uP477cy2"
      },
      "source": [
        "#@title load custom imports\n",
        "\n",
        "# Start a Git repository\n",
        "!git init\n",
        "\n",
        "# Track repository, do not enter subdirectory\n",
        "!git remote add -f origin https://github.com/ruanroloff/RL\n",
        "\n",
        "# Enable the tree check feature\n",
        "!git config core.sparseCheckout true\n",
        "\n",
        "# Create a file in the path: .git/info/sparse-checkout\n",
        "# That is inside the hidden .git directory that was created\n",
        "# by running the command: git init\n",
        "# And inside it enter the name of the sub directory you only want to clone\n",
        "!echo 'notebooks/dqn' >> .git/info/sparse-checkout\n",
        "\n",
        "## Download with pull, not clone\n",
        "!git pull origin main\n",
        "\n",
        "# Move files to root\n",
        "!mv notebooks/dqn/*.py .\n",
        "!mv notebooks/dqn/*.pth ."
      ],
      "execution_count": null,
      "outputs": []
    },
    {
      "cell_type": "code",
      "metadata": {
        "colab": {
          "base_uri": "https://localhost:8080/"
        },
        "id": "5P88tpgYMT3T",
        "outputId": "657a75ea-0b58-4165-d147-4da9a443aaa4"
      },
      "source": [
        "import gym\n",
        "!pip3 install box2d\n",
        "import random\n",
        "import torch\n",
        "import numpy as np\n",
        "from collections import deque\n",
        "import matplotlib.pyplot as plt\n",
        "%matplotlib inline\n",
        "\n",
        "!sudo apt-get install xvfb\n",
        "!python -m pip install pyvirtualdisplay\n",
        "from pyvirtualdisplay import Display\n",
        "display = Display(visible=0, size=(1400, 900))\n",
        "display.start()\n",
        "\n",
        "is_ipython = 'inline' in plt.get_backend()\n",
        "if is_ipython:\n",
        "    from IPython import display\n",
        "\n",
        "plt.ion()"
      ],
      "execution_count": null,
      "outputs": [
        {
          "output_type": "stream",
          "text": [
            "Collecting box2d\n",
            "  Downloading Box2D-2.3.10-cp37-cp37m-manylinux1_x86_64.whl (1.3 MB)\n",
            "\u001b[?25l\r\u001b[K     |▎                               | 10 kB 33.3 MB/s eta 0:00:01\r\u001b[K     |▌                               | 20 kB 32.3 MB/s eta 0:00:01\r\u001b[K     |▊                               | 30 kB 19.6 MB/s eta 0:00:01\r\u001b[K     |█                               | 40 kB 16.1 MB/s eta 0:00:01\r\u001b[K     |█▎                              | 51 kB 8.7 MB/s eta 0:00:01\r\u001b[K     |█▌                              | 61 kB 8.6 MB/s eta 0:00:01\r\u001b[K     |█▊                              | 71 kB 8.9 MB/s eta 0:00:01\r\u001b[K     |██                              | 81 kB 9.9 MB/s eta 0:00:01\r\u001b[K     |██▎                             | 92 kB 10.2 MB/s eta 0:00:01\r\u001b[K     |██▌                             | 102 kB 8.2 MB/s eta 0:00:01\r\u001b[K     |██▊                             | 112 kB 8.2 MB/s eta 0:00:01\r\u001b[K     |███                             | 122 kB 8.2 MB/s eta 0:00:01\r\u001b[K     |███▏                            | 133 kB 8.2 MB/s eta 0:00:01\r\u001b[K     |███▌                            | 143 kB 8.2 MB/s eta 0:00:01\r\u001b[K     |███▊                            | 153 kB 8.2 MB/s eta 0:00:01\r\u001b[K     |████                            | 163 kB 8.2 MB/s eta 0:00:01\r\u001b[K     |████▏                           | 174 kB 8.2 MB/s eta 0:00:01\r\u001b[K     |████▌                           | 184 kB 8.2 MB/s eta 0:00:01\r\u001b[K     |████▊                           | 194 kB 8.2 MB/s eta 0:00:01\r\u001b[K     |█████                           | 204 kB 8.2 MB/s eta 0:00:01\r\u001b[K     |█████▏                          | 215 kB 8.2 MB/s eta 0:00:01\r\u001b[K     |█████▌                          | 225 kB 8.2 MB/s eta 0:00:01\r\u001b[K     |█████▊                          | 235 kB 8.2 MB/s eta 0:00:01\r\u001b[K     |██████                          | 245 kB 8.2 MB/s eta 0:00:01\r\u001b[K     |██████▏                         | 256 kB 8.2 MB/s eta 0:00:01\r\u001b[K     |██████▍                         | 266 kB 8.2 MB/s eta 0:00:01\r\u001b[K     |██████▊                         | 276 kB 8.2 MB/s eta 0:00:01\r\u001b[K     |███████                         | 286 kB 8.2 MB/s eta 0:00:01\r\u001b[K     |███████▏                        | 296 kB 8.2 MB/s eta 0:00:01\r\u001b[K     |███████▍                        | 307 kB 8.2 MB/s eta 0:00:01\r\u001b[K     |███████▊                        | 317 kB 8.2 MB/s eta 0:00:01\r\u001b[K     |████████                        | 327 kB 8.2 MB/s eta 0:00:01\r\u001b[K     |████████▏                       | 337 kB 8.2 MB/s eta 0:00:01\r\u001b[K     |████████▍                       | 348 kB 8.2 MB/s eta 0:00:01\r\u001b[K     |████████▊                       | 358 kB 8.2 MB/s eta 0:00:01\r\u001b[K     |█████████                       | 368 kB 8.2 MB/s eta 0:00:01\r\u001b[K     |█████████▏                      | 378 kB 8.2 MB/s eta 0:00:01\r\u001b[K     |█████████▍                      | 389 kB 8.2 MB/s eta 0:00:01\r\u001b[K     |█████████▋                      | 399 kB 8.2 MB/s eta 0:00:01\r\u001b[K     |██████████                      | 409 kB 8.2 MB/s eta 0:00:01\r\u001b[K     |██████████▏                     | 419 kB 8.2 MB/s eta 0:00:01\r\u001b[K     |██████████▍                     | 430 kB 8.2 MB/s eta 0:00:01\r\u001b[K     |██████████▋                     | 440 kB 8.2 MB/s eta 0:00:01\r\u001b[K     |███████████                     | 450 kB 8.2 MB/s eta 0:00:01\r\u001b[K     |███████████▏                    | 460 kB 8.2 MB/s eta 0:00:01\r\u001b[K     |███████████▍                    | 471 kB 8.2 MB/s eta 0:00:01\r\u001b[K     |███████████▋                    | 481 kB 8.2 MB/s eta 0:00:01\r\u001b[K     |████████████                    | 491 kB 8.2 MB/s eta 0:00:01\r\u001b[K     |████████████▏                   | 501 kB 8.2 MB/s eta 0:00:01\r\u001b[K     |████████████▍                   | 512 kB 8.2 MB/s eta 0:00:01\r\u001b[K     |████████████▋                   | 522 kB 8.2 MB/s eta 0:00:01\r\u001b[K     |████████████▉                   | 532 kB 8.2 MB/s eta 0:00:01\r\u001b[K     |█████████████▏                  | 542 kB 8.2 MB/s eta 0:00:01\r\u001b[K     |█████████████▍                  | 552 kB 8.2 MB/s eta 0:00:01\r\u001b[K     |█████████████▋                  | 563 kB 8.2 MB/s eta 0:00:01\r\u001b[K     |█████████████▉                  | 573 kB 8.2 MB/s eta 0:00:01\r\u001b[K     |██████████████▏                 | 583 kB 8.2 MB/s eta 0:00:01\r\u001b[K     |██████████████▍                 | 593 kB 8.2 MB/s eta 0:00:01\r\u001b[K     |██████████████▋                 | 604 kB 8.2 MB/s eta 0:00:01\r\u001b[K     |██████████████▉                 | 614 kB 8.2 MB/s eta 0:00:01\r\u001b[K     |███████████████▏                | 624 kB 8.2 MB/s eta 0:00:01\r\u001b[K     |███████████████▍                | 634 kB 8.2 MB/s eta 0:00:01\r\u001b[K     |███████████████▋                | 645 kB 8.2 MB/s eta 0:00:01\r\u001b[K     |███████████████▉                | 655 kB 8.2 MB/s eta 0:00:01\r\u001b[K     |████████████████                | 665 kB 8.2 MB/s eta 0:00:01\r\u001b[K     |████████████████▍               | 675 kB 8.2 MB/s eta 0:00:01\r\u001b[K     |████████████████▋               | 686 kB 8.2 MB/s eta 0:00:01\r\u001b[K     |████████████████▉               | 696 kB 8.2 MB/s eta 0:00:01\r\u001b[K     |█████████████████               | 706 kB 8.2 MB/s eta 0:00:01\r\u001b[K     |█████████████████▍              | 716 kB 8.2 MB/s eta 0:00:01\r\u001b[K     |█████████████████▋              | 727 kB 8.2 MB/s eta 0:00:01\r\u001b[K     |█████████████████▉              | 737 kB 8.2 MB/s eta 0:00:01\r\u001b[K     |██████████████████              | 747 kB 8.2 MB/s eta 0:00:01\r\u001b[K     |██████████████████▎             | 757 kB 8.2 MB/s eta 0:00:01\r\u001b[K     |██████████████████▋             | 768 kB 8.2 MB/s eta 0:00:01\r\u001b[K     |██████████████████▉             | 778 kB 8.2 MB/s eta 0:00:01\r\u001b[K     |███████████████████             | 788 kB 8.2 MB/s eta 0:00:01\r\u001b[K     |███████████████████▎            | 798 kB 8.2 MB/s eta 0:00:01\r\u001b[K     |███████████████████▋            | 808 kB 8.2 MB/s eta 0:00:01\r\u001b[K     |███████████████████▉            | 819 kB 8.2 MB/s eta 0:00:01\r\u001b[K     |████████████████████            | 829 kB 8.2 MB/s eta 0:00:01\r\u001b[K     |████████████████████▎           | 839 kB 8.2 MB/s eta 0:00:01\r\u001b[K     |████████████████████▋           | 849 kB 8.2 MB/s eta 0:00:01\r\u001b[K     |████████████████████▉           | 860 kB 8.2 MB/s eta 0:00:01\r\u001b[K     |█████████████████████           | 870 kB 8.2 MB/s eta 0:00:01\r\u001b[K     |█████████████████████▎          | 880 kB 8.2 MB/s eta 0:00:01\r\u001b[K     |█████████████████████▌          | 890 kB 8.2 MB/s eta 0:00:01\r\u001b[K     |█████████████████████▉          | 901 kB 8.2 MB/s eta 0:00:01\r\u001b[K     |██████████████████████          | 911 kB 8.2 MB/s eta 0:00:01\r\u001b[K     |██████████████████████▎         | 921 kB 8.2 MB/s eta 0:00:01\r\u001b[K     |██████████████████████▌         | 931 kB 8.2 MB/s eta 0:00:01\r\u001b[K     |██████████████████████▉         | 942 kB 8.2 MB/s eta 0:00:01\r\u001b[K     |███████████████████████         | 952 kB 8.2 MB/s eta 0:00:01\r\u001b[K     |███████████████████████▎        | 962 kB 8.2 MB/s eta 0:00:01\r\u001b[K     |███████████████████████▌        | 972 kB 8.2 MB/s eta 0:00:01\r\u001b[K     |███████████████████████▉        | 983 kB 8.2 MB/s eta 0:00:01\r\u001b[K     |████████████████████████        | 993 kB 8.2 MB/s eta 0:00:01\r\u001b[K     |████████████████████████▎       | 1.0 MB 8.2 MB/s eta 0:00:01\r\u001b[K     |████████████████████████▌       | 1.0 MB 8.2 MB/s eta 0:00:01\r\u001b[K     |████████████████████████▊       | 1.0 MB 8.2 MB/s eta 0:00:01\r\u001b[K     |█████████████████████████       | 1.0 MB 8.2 MB/s eta 0:00:01\r\u001b[K     |█████████████████████████▎      | 1.0 MB 8.2 MB/s eta 0:00:01\r\u001b[K     |█████████████████████████▌      | 1.1 MB 8.2 MB/s eta 0:00:01\r\u001b[K     |█████████████████████████▊      | 1.1 MB 8.2 MB/s eta 0:00:01\r\u001b[K     |██████████████████████████      | 1.1 MB 8.2 MB/s eta 0:00:01\r\u001b[K     |██████████████████████████▎     | 1.1 MB 8.2 MB/s eta 0:00:01\r\u001b[K     |██████████████████████████▌     | 1.1 MB 8.2 MB/s eta 0:00:01\r\u001b[K     |██████████████████████████▊     | 1.1 MB 8.2 MB/s eta 0:00:01\r\u001b[K     |███████████████████████████     | 1.1 MB 8.2 MB/s eta 0:00:01\r\u001b[K     |███████████████████████████▎    | 1.1 MB 8.2 MB/s eta 0:00:01\r\u001b[K     |███████████████████████████▌    | 1.1 MB 8.2 MB/s eta 0:00:01\r\u001b[K     |███████████████████████████▊    | 1.1 MB 8.2 MB/s eta 0:00:01\r\u001b[K     |████████████████████████████    | 1.2 MB 8.2 MB/s eta 0:00:01\r\u001b[K     |████████████████████████████▎   | 1.2 MB 8.2 MB/s eta 0:00:01\r\u001b[K     |████████████████████████████▌   | 1.2 MB 8.2 MB/s eta 0:00:01\r\u001b[K     |████████████████████████████▊   | 1.2 MB 8.2 MB/s eta 0:00:01\r\u001b[K     |█████████████████████████████   | 1.2 MB 8.2 MB/s eta 0:00:01\r\u001b[K     |█████████████████████████████▎  | 1.2 MB 8.2 MB/s eta 0:00:01\r\u001b[K     |█████████████████████████████▌  | 1.2 MB 8.2 MB/s eta 0:00:01\r\u001b[K     |█████████████████████████████▊  | 1.2 MB 8.2 MB/s eta 0:00:01\r\u001b[K     |██████████████████████████████  | 1.2 MB 8.2 MB/s eta 0:00:01\r\u001b[K     |██████████████████████████████▎ | 1.2 MB 8.2 MB/s eta 0:00:01\r\u001b[K     |██████████████████████████████▌ | 1.3 MB 8.2 MB/s eta 0:00:01\r\u001b[K     |██████████████████████████████▊ | 1.3 MB 8.2 MB/s eta 0:00:01\r\u001b[K     |███████████████████████████████ | 1.3 MB 8.2 MB/s eta 0:00:01\r\u001b[K     |███████████████████████████████▏| 1.3 MB 8.2 MB/s eta 0:00:01\r\u001b[K     |███████████████████████████████▌| 1.3 MB 8.2 MB/s eta 0:00:01\r\u001b[K     |███████████████████████████████▊| 1.3 MB 8.2 MB/s eta 0:00:01\r\u001b[K     |████████████████████████████████| 1.3 MB 8.2 MB/s eta 0:00:01\r\u001b[K     |████████████████████████████████| 1.3 MB 8.2 MB/s \n",
            "\u001b[?25hInstalling collected packages: box2d\n",
            "Successfully installed box2d-2.3.10\n",
            "Reading package lists... Done\n",
            "Building dependency tree       \n",
            "Reading state information... Done\n",
            "The following NEW packages will be installed:\n",
            "  xvfb\n",
            "0 upgraded, 1 newly installed, 0 to remove and 40 not upgraded.\n",
            "Need to get 784 kB of archives.\n",
            "After this operation, 2,270 kB of additional disk space will be used.\n",
            "Get:1 http://archive.ubuntu.com/ubuntu bionic-updates/universe amd64 xvfb amd64 2:1.19.6-1ubuntu4.9 [784 kB]\n",
            "Fetched 784 kB in 1s (688 kB/s)\n",
            "debconf: unable to initialize frontend: Dialog\n",
            "debconf: (No usable dialog-like program is installed, so the dialog based frontend cannot be used. at /usr/share/perl5/Debconf/FrontEnd/Dialog.pm line 76, <> line 1.)\n",
            "debconf: falling back to frontend: Readline\n",
            "debconf: unable to initialize frontend: Readline\n",
            "debconf: (This frontend requires a controlling tty.)\n",
            "debconf: falling back to frontend: Teletype\n",
            "dpkg-preconfigure: unable to re-open stdin: \n",
            "Selecting previously unselected package xvfb.\n",
            "(Reading database ... 160837 files and directories currently installed.)\n",
            "Preparing to unpack .../xvfb_2%3a1.19.6-1ubuntu4.9_amd64.deb ...\n",
            "Unpacking xvfb (2:1.19.6-1ubuntu4.9) ...\n",
            "Setting up xvfb (2:1.19.6-1ubuntu4.9) ...\n",
            "Processing triggers for man-db (2.8.3-2ubuntu0.1) ...\n",
            "Collecting pyvirtualdisplay\n",
            "  Downloading PyVirtualDisplay-2.2-py3-none-any.whl (15 kB)\n",
            "Collecting EasyProcess\n",
            "  Downloading EasyProcess-0.3-py2.py3-none-any.whl (7.9 kB)\n",
            "Installing collected packages: EasyProcess, pyvirtualdisplay\n",
            "Successfully installed EasyProcess-0.3 pyvirtualdisplay-2.2\n"
          ],
          "name": "stdout"
        }
      ]
    },
    {
      "cell_type": "markdown",
      "metadata": {
        "id": "LYo4OAChMT3U"
      },
      "source": [
        "### 2. Instantiate the Environment and Agent\n",
        "\n",
        "Initialize the environment in the code cell below."
      ]
    },
    {
      "cell_type": "code",
      "metadata": {
        "colab": {
          "base_uri": "https://localhost:8080/"
        },
        "id": "oJkvO43QMT3U",
        "outputId": "3aceef86-32ff-40b8-fdcb-5eb5107f0917"
      },
      "source": [
        "env = gym.make('LunarLander-v2')\n",
        "env.seed(0)\n",
        "print('State shape: ', env.observation_space.shape)\n",
        "print('Number of actions: ', env.action_space.n)"
      ],
      "execution_count": null,
      "outputs": [
        {
          "output_type": "stream",
          "text": [
            "State shape:  (8,)\n",
            "Number of actions:  4\n"
          ],
          "name": "stdout"
        }
      ]
    },
    {
      "cell_type": "markdown",
      "metadata": {
        "id": "QaWb0xrEMT3U"
      },
      "source": [
        "Please refer to the instructions in `Deep_Q_Network.ipynb` if you would like to write your own DQN agent.  Otherwise, run the code cell below to load the solution files."
      ]
    },
    {
      "cell_type": "code",
      "metadata": {
        "colab": {
          "base_uri": "https://localhost:8080/",
          "height": 248
        },
        "id": "QImO5DI0MT3U",
        "outputId": "066f8d96-b963-4af5-c981-175817ecdf64"
      },
      "source": [
        "from dqn_agent import Agent\n",
        "\n",
        "agent = Agent(state_size=8, action_size=4, seed=0)\n",
        "\n",
        "# watch an untrained agent\n",
        "state = env.reset()\n",
        "img = plt.imshow(env.render(mode='rgb_array'))\n",
        "for j in range(200):\n",
        "    action = agent.act(state)\n",
        "    img.set_data(env.render(mode='rgb_array')) \n",
        "    plt.axis('off')\n",
        "    display.display(plt.gcf())\n",
        "    display.clear_output(wait=True)\n",
        "    state, reward, done, _ = env.step(action)\n",
        "    if done:\n",
        "        break \n",
        "        \n",
        "env.close()"
      ],
      "execution_count": null,
      "outputs": [
        {
          "output_type": "display_data",
          "data": {
            "image/png": "[encoded data removed]",
            "text/plain": [
              "<Figure size 432x288 with 1 Axes>"
            ]
          },
          "metadata": {
            "tags": [],
            "needs_background": "light"
          }
        }
      ]
    },
    {
      "cell_type": "markdown",
      "metadata": {
        "id": "OpOhXGqQMT3V"
      },
      "source": [
        "### 3. Train the Agent with DQN\n",
        "\n",
        "Run the code cell below to train the agent from scratch.  You are welcome to amend the supplied values of the parameters in the function, to try to see if you can get better performance!\n",
        "\n",
        "Alternatively, you can skip to the next step below (**4. Watch a Smart Agent!**), to load the saved model weights from a pre-trained agent."
      ]
    },
    {
      "cell_type": "code",
      "metadata": {
        "colab": {
          "base_uri": "https://localhost:8080/",
          "height": 517
        },
        "id": "khP1hkKmMT3V",
        "outputId": "dcdb7276-023c-4af1-cbce-6208520a37a6"
      },
      "source": [
        "def dqn(n_episodes=2000, max_t=1000, eps_start=1.0, eps_end=0.01, eps_decay=0.995):\n",
        "    \"\"\"Deep Q-Learning.\n",
        "    \n",
        "    Params\n",
        "    ======\n",
        "        n_episodes (int): maximum number of training episodes\n",
        "        max_t (int): maximum number of timesteps per episode\n",
        "        eps_start (float): starting value of epsilon, for epsilon-greedy action selection\n",
        "        eps_end (float): minimum value of epsilon\n",
        "        eps_decay (float): multiplicative factor (per episode) for decreasing epsilon\n",
        "    \"\"\"\n",
        "    scores = []                        # list containing scores from each episode\n",
        "    scores_window = deque(maxlen=100)  # last 100 scores\n",
        "    eps = eps_start                    # initialize epsilon\n",
        "    for i_episode in range(1, n_episodes+1):\n",
        "        state = env.reset()\n",
        "        score = 0\n",
        "        for t in range(max_t):\n",
        "            action = agent.act(state, eps)\n",
        "            next_state, reward, done, _ = env.step(action)\n",
        "            agent.step(state, action, reward, next_state, done)\n",
        "            state = next_state\n",
        "            score += reward\n",
        "            if done:\n",
        "                break \n",
        "        scores_window.append(score)       # save most recent score\n",
        "        scores.append(score)              # save most recent score\n",
        "        eps = max(eps_end, eps_decay*eps) # decrease epsilon\n",
        "        print('\\rEpisode {}\\tAverage Score: {:.2f}'.format(i_episode, np.mean(scores_window)), end=\"\")\n",
        "        if i_episode % 100 == 0:\n",
        "            print('\\rEpisode {}\\tAverage Score: {:.2f}'.format(i_episode, np.mean(scores_window)))\n",
        "        if np.mean(scores_window)>=200.0:\n",
        "            print('\\nEnvironment solved in {:d} episodes!\\tAverage Score: {:.2f}'.format(i_episode-100, np.mean(scores_window)))\n",
        "            torch.save(agent.qnetwork_local.state_dict(), 'checkpoint.pth')\n",
        "            break\n",
        "    return scores\n",
        "\n",
        "scores = dqn()\n",
        "\n",
        "# plot the scores\n",
        "fig = plt.figure()\n",
        "ax = fig.add_subplot(111)\n",
        "plt.plot(np.arange(len(scores)), scores)\n",
        "plt.ylabel('Score')\n",
        "plt.xlabel('Episode #')\n",
        "plt.show()"
      ],
      "execution_count": null,
      "outputs": [
        {
          "output_type": "stream",
          "text": [
            "Episode 100\tAverage Score: -175.08\n",
            "Episode 200\tAverage Score: -115.51\n",
            "Episode 300\tAverage Score: -72.95\n",
            "Episode 400\tAverage Score: -48.70\n",
            "Episode 500\tAverage Score: -22.76\n",
            "Episode 600\tAverage Score: 35.62\n",
            "Episode 700\tAverage Score: 166.67\n",
            "Episode 800\tAverage Score: 151.25\n",
            "Episode 900\tAverage Score: 140.48\n",
            "Episode 1000\tAverage Score: 173.41\n",
            "Episode 1100\tAverage Score: 179.25\n",
            "Episode 1200\tAverage Score: 157.79\n",
            "Episode 1297\tAverage Score: 201.75\n",
            "Environment solved in 1197 episodes!\tAverage Score: 201.75\n"
          ],
          "name": "stdout"
        },
        {
          "output_type": "display_data",
          "data": {
            "image/png": "[encoded data removed]",
            "text/plain": [
              "<Figure size 432x288 with 1 Axes>"
            ]
          },
          "metadata": {
            "tags": [],
            "needs_background": "light"
          }
        }
      ]
    },
    {
      "cell_type": "markdown",
      "metadata": {
        "id": "JvvZEe7UMT3W"
      },
      "source": [
        "### 4. Watch a Smart Agent!\n",
        "\n",
        "In the next code cell, you will load the trained weights from file to watch a smart agent!"
      ]
    },
    {
      "cell_type": "code",
      "metadata": {
        "colab": {
          "base_uri": "https://localhost:8080/",
          "height": 248
        },
        "id": "K6jOjSLfMT3W",
        "outputId": "8769af97-27bd-4ee6-d2c7-7b7092928e4f"
      },
      "source": [
        "# load the weights from file\n",
        "agent.qnetwork_local.load_state_dict(torch.load('checkpoint.pth'))\n",
        "\n",
        "for i in range(3):\n",
        "    state = env.reset()\n",
        "    img = plt.imshow(env.render(mode='rgb_array'))\n",
        "    for j in range(200):\n",
        "        action = agent.act(state)\n",
        "        img.set_data(env.render(mode='rgb_array')) \n",
        "        plt.axis('off')\n",
        "        display.display(plt.gcf())\n",
        "        display.clear_output(wait=True)\n",
        "        state, reward, done, _ = env.step(action)\n",
        "        if done:\n",
        "            break \n",
        "            \n",
        "env.close()"
      ],
      "execution_count": null,
      "outputs": [
        {
          "output_type": "display_data",
          "data": {
            "image/png": "[encoded data removed]",
            "text/plain": [
              "<Figure size 432x288 with 1 Axes>"
            ]
          },
          "metadata": {
            "tags": [],
            "needs_background": "light"
          }
        }
      ]
    },
    {
      "cell_type": "markdown",
      "metadata": {
        "id": "j__Z8FfhMT3X"
      },
      "source": [
        "### 5. Explore\n",
        "\n",
        "In this exercise, you have implemented a DQN agent and demonstrated how to use it to solve an OpenAI Gym environment.  To continue your learning, you are encouraged to complete any (or all!) of the following tasks:\n",
        "- Amend the various hyperparameters and network architecture to see if you can get your agent to solve the environment faster.  Once you build intuition for the hyperparameters that work well with this environment, try solving a different OpenAI Gym task with discrete actions!\n",
        "- You may like to implement some improvements such as prioritized experience replay, Double DQN, or Dueling DQN! \n",
        "- Write a blog post explaining the intuition behind the DQN algorithm and demonstrating how to use it to solve an RL environment of your choosing.  "
      ]
    }
  ]
}