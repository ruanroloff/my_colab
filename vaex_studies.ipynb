{
  "nbformat": 4,
  "nbformat_minor": 5,
  "metadata": {
    "kernelspec": {
      "display_name": "big_data_venv",
      "language": "python",
      "name": "big_data_venv"
    },
    "language_info": {
      "codemirror_mode": {
        "name": "ipython",
        "version": 3
      },
      "file_extension": ".py",
      "mimetype": "text/x-python",
      "name": "python",
      "nbconvert_exporter": "python",
      "pygments_lexer": "ipython3",
      "version": "3.7.9"
    },
    "colab": {
      "name": "vaex_studies.ipynb",
      "provenance": [],
      "include_colab_link": true
    }
  },
  "cells": [
    {
      "cell_type": "markdown",
      "metadata": {
        "id": "view-in-github",
        "colab_type": "text"
      },
      "source": [
        "<a href=\"https://colab.research.google.com/github/ruanroloff/my_colab/blob/main/vaex_studies.ipynb\" target=\"_parent\"><img src=\"https://colab.research.google.com/assets/colab-badge.svg\" alt=\"Open In Colab\"/></a>"
      ]
    },
    {
      "cell_type": "code",
      "metadata": {
        "id": "outstanding-toronto"
      },
      "source": [
        "# Basic Imports\n",
        "import pandas as pd\n",
        "import vaex \n",
        "import sklearn\n",
        "import numpy as np\n",
        "import matplotlib.pyplot as plt\n",
        "\n",
        "# ML Imports\n",
        "import vaex.ml\n",
        "from sklearn.linear_model import SGDRegressor\n",
        "from vaex.ml.sklearn import IncrementalPredictor\n",
        "\n",
        "# Settings\n",
        "vaex.multithreading.thread_count_default = 8"
      ],
      "id": "outstanding-toronto",
      "execution_count": null,
      "outputs": []
    },
    {
      "cell_type": "markdown",
      "metadata": {
        "id": "actual-rwanda"
      },
      "source": [
        "# 1. I/O Kung-Fu"
      ],
      "id": "actual-rwanda"
    },
    {
      "cell_type": "code",
      "metadata": {
        "id": "internal-point"
      },
      "source": [
        "# df = vaex.from_csv('allyears.csv', convert=True, chunk_size=1_000_000,low_memory = False)"
      ],
      "id": "internal-point",
      "execution_count": null,
      "outputs": []
    },
    {
      "cell_type": "code",
      "metadata": {
        "id": "lesbian-light",
        "outputId": "2e8d3d6d-b65a-4fbf-ffaa-1faccb308c60"
      },
      "source": [
        "%%time\n",
        "flights = vaex.open('all_years.hdf5')\n",
        "flights"
      ],
      "id": "lesbian-light",
      "execution_count": null,
      "outputs": [
        {
          "output_type": "stream",
          "text": [
            "CPU times: user 1.31 s, sys: 184 ms, total: 1.49 s\n",
            "Wall time: 4.31 s\n"
          ],
          "name": "stdout"
        },
        {
          "output_type": "execute_result",
          "data": {
            "text/html": [
              "<table>\n",
              "<thead>\n",
              "<tr><th>#                                      </th><th>Year  </th><th>Month  </th><th>DayofMonth  </th><th>DayOfWeek  </th><th>DepTime  </th><th>CRSDepTime  </th><th>ArrTime  </th><th>CRSArrTime  </th><th>UniqueCarrier  </th><th>FlightNum  </th><th>TailNum  </th><th>ActualElapsedTime  </th><th>CRSElapsedTime  </th><th>AirTime  </th><th>ArrDelay  </th><th>DepDelay  </th><th>Origin  </th><th>Dest  </th><th>Distance  </th><th>TaxiIn  </th><th>TaxiOut  </th><th>Cancelled  </th><th>CancellationCode  </th><th>Diverted  </th><th>CarrierDelay  </th><th>WeatherDelay  </th><th>NASDelay  </th><th>SecurityDelay  </th><th>LateAircraftDelay  </th><th>IsArrDelayed  </th><th>IsDepDelayed  </th></tr>\n",
              "</thead>\n",
              "<tbody>\n",
              "<tr><td><i style='opacity: 0.6'>0</i>          </td><td>1987  </td><td>10     </td><td>14          </td><td>3          </td><td>741.0    </td><td>730         </td><td>912.0    </td><td>849         </td><td>&#x27;PS&#x27;           </td><td>1451       </td><td>&#x27;nan&#x27;    </td><td>91.0               </td><td>79.0            </td><td>nan      </td><td>23.0      </td><td>11.0      </td><td>&#x27;SAN&#x27;   </td><td>&#x27;SFO&#x27; </td><td>447.0     </td><td>nan     </td><td>nan      </td><td>0          </td><td>&#x27;nan&#x27;             </td><td>0         </td><td>nan           </td><td>0.0           </td><td>0.0       </td><td>0.0            </td><td>0.0                </td><td>&#x27;&#x27;            </td><td>&#x27;&#x27;            </td></tr>\n",
              "<tr><td><i style='opacity: 0.6'>1</i>          </td><td>1987  </td><td>10     </td><td>15          </td><td>4          </td><td>729.0    </td><td>730         </td><td>903.0    </td><td>849         </td><td>&#x27;PS&#x27;           </td><td>1451       </td><td>&#x27;nan&#x27;    </td><td>94.0               </td><td>79.0            </td><td>nan      </td><td>14.0      </td><td>-1.0      </td><td>&#x27;SAN&#x27;   </td><td>&#x27;SFO&#x27; </td><td>447.0     </td><td>nan     </td><td>nan      </td><td>0          </td><td>&#x27;nan&#x27;             </td><td>0         </td><td>nan           </td><td>0.0           </td><td>0.0       </td><td>0.0            </td><td>0.0                </td><td>&#x27;&#x27;            </td><td>&#x27;&#x27;            </td></tr>\n",
              "<tr><td><i style='opacity: 0.6'>2</i>          </td><td>1987  </td><td>10     </td><td>17          </td><td>6          </td><td>741.0    </td><td>730         </td><td>918.0    </td><td>849         </td><td>&#x27;PS&#x27;           </td><td>1451       </td><td>&#x27;nan&#x27;    </td><td>97.0               </td><td>79.0            </td><td>nan      </td><td>29.0      </td><td>11.0      </td><td>&#x27;SAN&#x27;   </td><td>&#x27;SFO&#x27; </td><td>447.0     </td><td>nan     </td><td>nan      </td><td>0          </td><td>&#x27;nan&#x27;             </td><td>0         </td><td>nan           </td><td>0.0           </td><td>0.0       </td><td>0.0            </td><td>0.0                </td><td>&#x27;&#x27;            </td><td>&#x27;&#x27;            </td></tr>\n",
              "<tr><td><i style='opacity: 0.6'>3</i>          </td><td>1987  </td><td>10     </td><td>18          </td><td>7          </td><td>729.0    </td><td>730         </td><td>847.0    </td><td>849         </td><td>&#x27;PS&#x27;           </td><td>1451       </td><td>&#x27;nan&#x27;    </td><td>78.0               </td><td>79.0            </td><td>nan      </td><td>-2.0      </td><td>-1.0      </td><td>&#x27;SAN&#x27;   </td><td>&#x27;SFO&#x27; </td><td>447.0     </td><td>nan     </td><td>nan      </td><td>0          </td><td>&#x27;nan&#x27;             </td><td>0         </td><td>nan           </td><td>0.0           </td><td>0.0       </td><td>0.0            </td><td>0.0                </td><td>&#x27;&#x27;            </td><td>&#x27;&#x27;            </td></tr>\n",
              "<tr><td><i style='opacity: 0.6'>4</i>          </td><td>1987  </td><td>10     </td><td>19          </td><td>1          </td><td>749.0    </td><td>730         </td><td>922.0    </td><td>849         </td><td>&#x27;PS&#x27;           </td><td>1451       </td><td>&#x27;nan&#x27;    </td><td>93.0               </td><td>79.0            </td><td>nan      </td><td>33.0      </td><td>19.0      </td><td>&#x27;SAN&#x27;   </td><td>&#x27;SFO&#x27; </td><td>447.0     </td><td>nan     </td><td>nan      </td><td>0          </td><td>&#x27;nan&#x27;             </td><td>0         </td><td>nan           </td><td>0.0           </td><td>0.0       </td><td>0.0            </td><td>0.0                </td><td>&#x27;&#x27;            </td><td>&#x27;&#x27;            </td></tr>\n",
              "<tr><td>...                                    </td><td>...   </td><td>...    </td><td>...         </td><td>...        </td><td>...      </td><td>...         </td><td>...      </td><td>...         </td><td>...            </td><td>...        </td><td>...      </td><td>...                </td><td>...             </td><td>...      </td><td>...       </td><td>...       </td><td>...     </td><td>...   </td><td>...       </td><td>...     </td><td>...      </td><td>...        </td><td>...               </td><td>...       </td><td>...           </td><td>...           </td><td>...       </td><td>...            </td><td>...                </td><td>...           </td><td>...           </td></tr>\n",
              "<tr><td><i style='opacity: 0.6'>123,534,964</i></td><td>2008  </td><td>12     </td><td>13          </td><td>6          </td><td>1002.0   </td><td>959         </td><td>1204.0   </td><td>1150        </td><td>&#x27;DL&#x27;           </td><td>1636       </td><td>&#x27;N646DL&#x27; </td><td>122.0              </td><td>111.0           </td><td>71.0     </td><td>14.0      </td><td>3.0       </td><td>&#x27;ATL&#x27;   </td><td>&#x27;IAD&#x27; </td><td>533.0     </td><td>6.0     </td><td>45.0     </td><td>0          </td><td>--                </td><td>0         </td><td>0.0           </td><td>0.0           </td><td>0.0       </td><td>0.0            </td><td>0.0                </td><td>&#x27;&#x27;            </td><td>&#x27;&#x27;            </td></tr>\n",
              "<tr><td><i style='opacity: 0.6'>123,534,965</i></td><td>2008  </td><td>12     </td><td>13          </td><td>6          </td><td>834.0    </td><td>835         </td><td>1021.0   </td><td>1023        </td><td>&#x27;DL&#x27;           </td><td>1637       </td><td>&#x27;N908DL&#x27; </td><td>167.0              </td><td>168.0           </td><td>139.0    </td><td>-2.0      </td><td>-1.0      </td><td>&#x27;ATL&#x27;   </td><td>&#x27;SAT&#x27; </td><td>874.0     </td><td>5.0     </td><td>23.0     </td><td>0          </td><td>--                </td><td>0         </td><td>0.0           </td><td>0.0           </td><td>0.0       </td><td>0.0            </td><td>0.0                </td><td>&#x27;&#x27;            </td><td>&#x27;&#x27;            </td></tr>\n",
              "<tr><td><i style='opacity: 0.6'>123,534,966</i></td><td>2008  </td><td>12     </td><td>13          </td><td>6          </td><td>655.0    </td><td>700         </td><td>856.0    </td><td>856         </td><td>&#x27;DL&#x27;           </td><td>1638       </td><td>&#x27;N671DN&#x27; </td><td>121.0              </td><td>116.0           </td><td>85.0     </td><td>0.0       </td><td>-5.0      </td><td>&#x27;PBI&#x27;   </td><td>&#x27;ATL&#x27; </td><td>545.0     </td><td>24.0    </td><td>12.0     </td><td>0          </td><td>--                </td><td>0         </td><td>0.0           </td><td>0.0           </td><td>0.0       </td><td>0.0            </td><td>0.0                </td><td>&#x27;&#x27;            </td><td>&#x27;&#x27;            </td></tr>\n",
              "<tr><td><i style='opacity: 0.6'>123,534,967</i></td><td>2008  </td><td>12     </td><td>13          </td><td>6          </td><td>1251.0   </td><td>1240        </td><td>1446.0   </td><td>1437        </td><td>&#x27;DL&#x27;           </td><td>1639       </td><td>&#x27;N646DL&#x27; </td><td>115.0              </td><td>117.0           </td><td>89.0     </td><td>9.0       </td><td>11.0      </td><td>&#x27;IAD&#x27;   </td><td>&#x27;ATL&#x27; </td><td>533.0     </td><td>13.0    </td><td>13.0     </td><td>0          </td><td>--                </td><td>0         </td><td>0.0           </td><td>0.0           </td><td>0.0       </td><td>0.0            </td><td>0.0                </td><td>&#x27;&#x27;            </td><td>&#x27;&#x27;            </td></tr>\n",
              "<tr><td><i style='opacity: 0.6'>123,534,968</i></td><td>2008  </td><td>12     </td><td>13          </td><td>6          </td><td>1110.0   </td><td>1103        </td><td>1413.0   </td><td>1418        </td><td>&#x27;DL&#x27;           </td><td>1641       </td><td>&#x27;N908DL&#x27; </td><td>123.0              </td><td>135.0           </td><td>104.0    </td><td>-5.0      </td><td>7.0       </td><td>&#x27;SAT&#x27;   </td><td>&#x27;ATL&#x27; </td><td>874.0     </td><td>8.0     </td><td>11.0     </td><td>0          </td><td>--                </td><td>0         </td><td>0.0           </td><td>0.0           </td><td>0.0       </td><td>0.0            </td><td>0.0                </td><td>&#x27;&#x27;            </td><td>&#x27;&#x27;            </td></tr>\n",
              "</tbody>\n",
              "</table>"
            ],
            "text/plain": [
              "#            Year    Month    DayofMonth    DayOfWeek    DepTime    CRSDepTime    ArrTime    CRSArrTime    UniqueCarrier    FlightNum    TailNum    ActualElapsedTime    CRSElapsedTime    AirTime    ArrDelay    DepDelay    Origin    Dest    Distance    TaxiIn    TaxiOut    Cancelled    CancellationCode    Diverted    CarrierDelay    WeatherDelay    NASDelay    SecurityDelay    LateAircraftDelay    IsArrDelayed    IsDepDelayed\n",
              "0            1987    10       14            3            741.0      730           912.0      849           'PS'             1451         'nan'      91.0                 79.0              nan        23.0        11.0        'SAN'     'SFO'   447.0       nan       nan        0            'nan'               0           nan             0.0             0.0         0.0              0.0                  ''              ''\n",
              "1            1987    10       15            4            729.0      730           903.0      849           'PS'             1451         'nan'      94.0                 79.0              nan        14.0        -1.0        'SAN'     'SFO'   447.0       nan       nan        0            'nan'               0           nan             0.0             0.0         0.0              0.0                  ''              ''\n",
              "2            1987    10       17            6            741.0      730           918.0      849           'PS'             1451         'nan'      97.0                 79.0              nan        29.0        11.0        'SAN'     'SFO'   447.0       nan       nan        0            'nan'               0           nan             0.0             0.0         0.0              0.0                  ''              ''\n",
              "3            1987    10       18            7            729.0      730           847.0      849           'PS'             1451         'nan'      78.0                 79.0              nan        -2.0        -1.0        'SAN'     'SFO'   447.0       nan       nan        0            'nan'               0           nan             0.0             0.0         0.0              0.0                  ''              ''\n",
              "4            1987    10       19            1            749.0      730           922.0      849           'PS'             1451         'nan'      93.0                 79.0              nan        33.0        19.0        'SAN'     'SFO'   447.0       nan       nan        0            'nan'               0           nan             0.0             0.0         0.0              0.0                  ''              ''\n",
              "...          ...     ...      ...           ...          ...        ...           ...        ...           ...              ...          ...        ...                  ...               ...        ...         ...         ...       ...     ...         ...       ...        ...          ...                 ...         ...             ...             ...         ...              ...                  ...             ...\n",
              "123,534,964  2008    12       13            6            1002.0     959           1204.0     1150          'DL'             1636         'N646DL'   122.0                111.0             71.0       14.0        3.0         'ATL'     'IAD'   533.0       6.0       45.0       0            --                  0           0.0             0.0             0.0         0.0              0.0                  ''              ''\n",
              "123,534,965  2008    12       13            6            834.0      835           1021.0     1023          'DL'             1637         'N908DL'   167.0                168.0             139.0      -2.0        -1.0        'ATL'     'SAT'   874.0       5.0       23.0       0            --                  0           0.0             0.0             0.0         0.0              0.0                  ''              ''\n",
              "123,534,966  2008    12       13            6            655.0      700           856.0      856           'DL'             1638         'N671DN'   121.0                116.0             85.0       0.0         -5.0        'PBI'     'ATL'   545.0       24.0      12.0       0            --                  0           0.0             0.0             0.0         0.0              0.0                  ''              ''\n",
              "123,534,967  2008    12       13            6            1251.0     1240          1446.0     1437          'DL'             1639         'N646DL'   115.0                117.0             89.0       9.0         11.0        'IAD'     'ATL'   533.0       13.0      13.0       0            --                  0           0.0             0.0             0.0         0.0              0.0                  ''              ''\n",
              "123,534,968  2008    12       13            6            1110.0     1103          1413.0     1418          'DL'             1641         'N908DL'   123.0                135.0             104.0      -5.0        7.0         'SAT'     'ATL'   874.0       8.0       11.0       0            --                  0           0.0             0.0             0.0         0.0              0.0                  ''              ''"
            ]
          },
          "metadata": {
            "tags": []
          },
          "execution_count": 3
        }
      ]
    },
    {
      "cell_type": "markdown",
      "metadata": {
        "id": "rental-forest"
      },
      "source": [
        "# 2. Big Data Analytics "
      ],
      "id": "rental-forest"
    },
    {
      "cell_type": "markdown",
      "metadata": {
        "id": "protected-typing"
      },
      "source": [
        "<img src=\"dask.png\" width=750 height=750 />"
      ],
      "id": "protected-typing"
    },
    {
      "cell_type": "code",
      "metadata": {
        "id": "detected-plain"
      },
      "source": [
        "flights_filtered = flights[((flights.ActualElapsedTime>=0).fillmissing(True)) &\n",
        "                 ((flights.CRSElapsedTime>=0).fillmissing(True)) &\n",
        "                 ((flights.AirTime>0).fillmissing(True)) & \n",
        "                 ((flights.Distance > 0).fillmissing(True))]"
      ],
      "id": "detected-plain",
      "execution_count": null,
      "outputs": []
    },
    {
      "cell_type": "code",
      "metadata": {
        "id": "accessible-appeal",
        "outputId": "89340987-abaa-41e4-d32e-54280466b2ed"
      },
      "source": [
        "flights_filtered"
      ],
      "id": "accessible-appeal",
      "execution_count": null,
      "outputs": [
        {
          "output_type": "execute_result",
          "data": {
            "text/html": [
              "<table>\n",
              "<thead>\n",
              "<tr><th>#                                     </th><th>Year  </th><th>Month  </th><th>DayofMonth  </th><th>DayOfWeek  </th><th>DepTime  </th><th>CRSDepTime  </th><th>ArrTime  </th><th>CRSArrTime  </th><th>UniqueCarrier  </th><th>FlightNum  </th><th>TailNum  </th><th>ActualElapsedTime  </th><th>CRSElapsedTime  </th><th>AirTime  </th><th>ArrDelay  </th><th>DepDelay  </th><th>Origin  </th><th>Dest  </th><th>Distance  </th><th>TaxiIn  </th><th>TaxiOut  </th><th>Cancelled  </th><th>CancellationCode  </th><th>Diverted  </th><th>CarrierDelay  </th><th>WeatherDelay  </th><th>NASDelay  </th><th>SecurityDelay  </th><th>LateAircraftDelay  </th><th>IsArrDelayed  </th><th>IsDepDelayed  </th></tr>\n",
              "</thead>\n",
              "<tbody>\n",
              "<tr><td><i style='opacity: 0.6'>0</i>         </td><td>1995  </td><td>1      </td><td>6           </td><td>5          </td><td>657.0    </td><td>645         </td><td>952.0    </td><td>937         </td><td>&#x27;UA&#x27;           </td><td>482        </td><td>&#x27;N7298U&#x27; </td><td>115.0              </td><td>112.0           </td><td>83.0     </td><td>15.0      </td><td>12.0      </td><td>&#x27;ORD&#x27;   </td><td>&#x27;PHL&#x27; </td><td>678.0     </td><td>7.0     </td><td>25.0     </td><td>0          </td><td>&#x27;nan&#x27;             </td><td>0         </td><td>0.0           </td><td>0.0           </td><td>0.0       </td><td>0.0            </td><td>0.0                </td><td>&#x27;&#x27;            </td><td>&#x27;&#x27;            </td></tr>\n",
              "<tr><td><i style='opacity: 0.6'>1</i>         </td><td>1995  </td><td>1      </td><td>7           </td><td>6          </td><td>648.0    </td><td>645         </td><td>938.0    </td><td>937         </td><td>&#x27;UA&#x27;           </td><td>482        </td><td>&#x27;N7449U&#x27; </td><td>110.0              </td><td>112.0           </td><td>88.0     </td><td>1.0       </td><td>3.0       </td><td>&#x27;ORD&#x27;   </td><td>&#x27;PHL&#x27; </td><td>678.0     </td><td>5.0     </td><td>17.0     </td><td>0          </td><td>&#x27;nan&#x27;             </td><td>0         </td><td>0.0           </td><td>0.0           </td><td>0.0       </td><td>0.0            </td><td>0.0                </td><td>&#x27;&#x27;            </td><td>&#x27;&#x27;            </td></tr>\n",
              "<tr><td><i style='opacity: 0.6'>2</i>         </td><td>1995  </td><td>1      </td><td>8           </td><td>7          </td><td>649.0    </td><td>645         </td><td>932.0    </td><td>937         </td><td>&#x27;UA&#x27;           </td><td>482        </td><td>&#x27;N7453U&#x27; </td><td>103.0              </td><td>112.0           </td><td>83.0     </td><td>-5.0      </td><td>4.0       </td><td>&#x27;ORD&#x27;   </td><td>&#x27;PHL&#x27; </td><td>678.0     </td><td>3.0     </td><td>17.0     </td><td>0          </td><td>&#x27;nan&#x27;             </td><td>0         </td><td>0.0           </td><td>0.0           </td><td>0.0       </td><td>0.0            </td><td>0.0                </td><td>&#x27;&#x27;            </td><td>&#x27;&#x27;            </td></tr>\n",
              "<tr><td><i style='opacity: 0.6'>3</i>         </td><td>1995  </td><td>1      </td><td>9           </td><td>1          </td><td>645.0    </td><td>645         </td><td>928.0    </td><td>937         </td><td>&#x27;UA&#x27;           </td><td>482        </td><td>&#x27;N7288U&#x27; </td><td>103.0              </td><td>112.0           </td><td>84.0     </td><td>-9.0      </td><td>0.0       </td><td>&#x27;ORD&#x27;   </td><td>&#x27;PHL&#x27; </td><td>678.0     </td><td>3.0     </td><td>16.0     </td><td>0          </td><td>&#x27;nan&#x27;             </td><td>0         </td><td>0.0           </td><td>0.0           </td><td>0.0       </td><td>0.0            </td><td>0.0                </td><td>&#x27;&#x27;            </td><td>&#x27;&#x27;            </td></tr>\n",
              "<tr><td><i style='opacity: 0.6'>4</i>         </td><td>1995  </td><td>1      </td><td>10          </td><td>2          </td><td>645.0    </td><td>645         </td><td>931.0    </td><td>937         </td><td>&#x27;UA&#x27;           </td><td>482        </td><td>&#x27;N7275U&#x27; </td><td>106.0              </td><td>112.0           </td><td>82.0     </td><td>-6.0      </td><td>0.0       </td><td>&#x27;ORD&#x27;   </td><td>&#x27;PHL&#x27; </td><td>678.0     </td><td>6.0     </td><td>18.0     </td><td>0          </td><td>&#x27;nan&#x27;             </td><td>0         </td><td>0.0           </td><td>0.0           </td><td>0.0       </td><td>0.0            </td><td>0.0                </td><td>&#x27;&#x27;            </td><td>&#x27;&#x27;            </td></tr>\n",
              "<tr><td>...                                   </td><td>...   </td><td>...    </td><td>...         </td><td>...        </td><td>...      </td><td>...         </td><td>...      </td><td>...         </td><td>...            </td><td>...        </td><td>...      </td><td>...                </td><td>...             </td><td>...      </td><td>...       </td><td>...       </td><td>...     </td><td>...   </td><td>...       </td><td>...     </td><td>...      </td><td>...        </td><td>...               </td><td>...       </td><td>...           </td><td>...           </td><td>...       </td><td>...            </td><td>...                </td><td>...           </td><td>...           </td></tr>\n",
              "<tr><td><i style='opacity: 0.6'>84,186,963</i></td><td>2008  </td><td>12     </td><td>13          </td><td>6          </td><td>1002.0   </td><td>959         </td><td>1204.0   </td><td>1150        </td><td>&#x27;DL&#x27;           </td><td>1636       </td><td>&#x27;N646DL&#x27; </td><td>122.0              </td><td>111.0           </td><td>71.0     </td><td>14.0      </td><td>3.0       </td><td>&#x27;ATL&#x27;   </td><td>&#x27;IAD&#x27; </td><td>533.0     </td><td>6.0     </td><td>45.0     </td><td>0          </td><td>--                </td><td>0         </td><td>0.0           </td><td>0.0           </td><td>0.0       </td><td>0.0            </td><td>0.0                </td><td>&#x27;&#x27;            </td><td>&#x27;&#x27;            </td></tr>\n",
              "<tr><td><i style='opacity: 0.6'>84,186,964</i></td><td>2008  </td><td>12     </td><td>13          </td><td>6          </td><td>834.0    </td><td>835         </td><td>1021.0   </td><td>1023        </td><td>&#x27;DL&#x27;           </td><td>1637       </td><td>&#x27;N908DL&#x27; </td><td>167.0              </td><td>168.0           </td><td>139.0    </td><td>-2.0      </td><td>-1.0      </td><td>&#x27;ATL&#x27;   </td><td>&#x27;SAT&#x27; </td><td>874.0     </td><td>5.0     </td><td>23.0     </td><td>0          </td><td>--                </td><td>0         </td><td>0.0           </td><td>0.0           </td><td>0.0       </td><td>0.0            </td><td>0.0                </td><td>&#x27;&#x27;            </td><td>&#x27;&#x27;            </td></tr>\n",
              "<tr><td><i style='opacity: 0.6'>84,186,965</i></td><td>2008  </td><td>12     </td><td>13          </td><td>6          </td><td>655.0    </td><td>700         </td><td>856.0    </td><td>856         </td><td>&#x27;DL&#x27;           </td><td>1638       </td><td>&#x27;N671DN&#x27; </td><td>121.0              </td><td>116.0           </td><td>85.0     </td><td>0.0       </td><td>-5.0      </td><td>&#x27;PBI&#x27;   </td><td>&#x27;ATL&#x27; </td><td>545.0     </td><td>24.0    </td><td>12.0     </td><td>0          </td><td>--                </td><td>0         </td><td>0.0           </td><td>0.0           </td><td>0.0       </td><td>0.0            </td><td>0.0                </td><td>&#x27;&#x27;            </td><td>&#x27;&#x27;            </td></tr>\n",
              "<tr><td><i style='opacity: 0.6'>84,186,966</i></td><td>2008  </td><td>12     </td><td>13          </td><td>6          </td><td>1251.0   </td><td>1240        </td><td>1446.0   </td><td>1437        </td><td>&#x27;DL&#x27;           </td><td>1639       </td><td>&#x27;N646DL&#x27; </td><td>115.0              </td><td>117.0           </td><td>89.0     </td><td>9.0       </td><td>11.0      </td><td>&#x27;IAD&#x27;   </td><td>&#x27;ATL&#x27; </td><td>533.0     </td><td>13.0    </td><td>13.0     </td><td>0          </td><td>--                </td><td>0         </td><td>0.0           </td><td>0.0           </td><td>0.0       </td><td>0.0            </td><td>0.0                </td><td>&#x27;&#x27;            </td><td>&#x27;&#x27;            </td></tr>\n",
              "<tr><td><i style='opacity: 0.6'>84,186,967</i></td><td>2008  </td><td>12     </td><td>13          </td><td>6          </td><td>1110.0   </td><td>1103        </td><td>1413.0   </td><td>1418        </td><td>&#x27;DL&#x27;           </td><td>1641       </td><td>&#x27;N908DL&#x27; </td><td>123.0              </td><td>135.0           </td><td>104.0    </td><td>-5.0      </td><td>7.0       </td><td>&#x27;SAT&#x27;   </td><td>&#x27;ATL&#x27; </td><td>874.0     </td><td>8.0     </td><td>11.0     </td><td>0          </td><td>--                </td><td>0         </td><td>0.0           </td><td>0.0           </td><td>0.0       </td><td>0.0            </td><td>0.0                </td><td>&#x27;&#x27;            </td><td>&#x27;&#x27;            </td></tr>\n",
              "</tbody>\n",
              "</table>"
            ],
            "text/plain": [
              "#           Year    Month    DayofMonth    DayOfWeek    DepTime    CRSDepTime    ArrTime    CRSArrTime    UniqueCarrier    FlightNum    TailNum    ActualElapsedTime    CRSElapsedTime    AirTime    ArrDelay    DepDelay    Origin    Dest    Distance    TaxiIn    TaxiOut    Cancelled    CancellationCode    Diverted    CarrierDelay    WeatherDelay    NASDelay    SecurityDelay    LateAircraftDelay    IsArrDelayed    IsDepDelayed\n",
              "0           1995    1        6             5            657.0      645           952.0      937           'UA'             482          'N7298U'   115.0                112.0             83.0       15.0        12.0        'ORD'     'PHL'   678.0       7.0       25.0       0            'nan'               0           0.0             0.0             0.0         0.0              0.0                  ''              ''\n",
              "1           1995    1        7             6            648.0      645           938.0      937           'UA'             482          'N7449U'   110.0                112.0             88.0       1.0         3.0         'ORD'     'PHL'   678.0       5.0       17.0       0            'nan'               0           0.0             0.0             0.0         0.0              0.0                  ''              ''\n",
              "2           1995    1        8             7            649.0      645           932.0      937           'UA'             482          'N7453U'   103.0                112.0             83.0       -5.0        4.0         'ORD'     'PHL'   678.0       3.0       17.0       0            'nan'               0           0.0             0.0             0.0         0.0              0.0                  ''              ''\n",
              "3           1995    1        9             1            645.0      645           928.0      937           'UA'             482          'N7288U'   103.0                112.0             84.0       -9.0        0.0         'ORD'     'PHL'   678.0       3.0       16.0       0            'nan'               0           0.0             0.0             0.0         0.0              0.0                  ''              ''\n",
              "4           1995    1        10            2            645.0      645           931.0      937           'UA'             482          'N7275U'   106.0                112.0             82.0       -6.0        0.0         'ORD'     'PHL'   678.0       6.0       18.0       0            'nan'               0           0.0             0.0             0.0         0.0              0.0                  ''              ''\n",
              "...         ...     ...      ...           ...          ...        ...           ...        ...           ...              ...          ...        ...                  ...               ...        ...         ...         ...       ...     ...         ...       ...        ...          ...                 ...         ...             ...             ...         ...              ...                  ...             ...\n",
              "84,186,963  2008    12       13            6            1002.0     959           1204.0     1150          'DL'             1636         'N646DL'   122.0                111.0             71.0       14.0        3.0         'ATL'     'IAD'   533.0       6.0       45.0       0            --                  0           0.0             0.0             0.0         0.0              0.0                  ''              ''\n",
              "84,186,964  2008    12       13            6            834.0      835           1021.0     1023          'DL'             1637         'N908DL'   167.0                168.0             139.0      -2.0        -1.0        'ATL'     'SAT'   874.0       5.0       23.0       0            --                  0           0.0             0.0             0.0         0.0              0.0                  ''              ''\n",
              "84,186,965  2008    12       13            6            655.0      700           856.0      856           'DL'             1638         'N671DN'   121.0                116.0             85.0       0.0         -5.0        'PBI'     'ATL'   545.0       24.0      12.0       0            --                  0           0.0             0.0             0.0         0.0              0.0                  ''              ''\n",
              "84,186,966  2008    12       13            6            1251.0     1240          1446.0     1437          'DL'             1639         'N646DL'   115.0                117.0             89.0       9.0         11.0        'IAD'     'ATL'   533.0       13.0      13.0       0            --                  0           0.0             0.0             0.0         0.0              0.0                  ''              ''\n",
              "84,186,967  2008    12       13            6            1110.0     1103          1413.0     1418          'DL'             1641         'N908DL'   123.0                135.0             104.0      -5.0        7.0         'SAT'     'ATL'   874.0       8.0       11.0       0            --                  0           0.0             0.0             0.0         0.0              0.0                  ''              ''"
            ]
          },
          "metadata": {
            "tags": []
          },
          "execution_count": 5
        }
      ]
    },
    {
      "cell_type": "code",
      "metadata": {
        "id": "worthy-angle",
        "outputId": "2f56a54f-750f-49a1-fc78-e81cc8a5ca95"
      },
      "source": [
        "%%time\n",
        "flights_filtered[flights_filtered.Distance > 4500].groupby(['Origin', 'Dest', 'Distance'], \n",
        "                                                 agg={'Origin':'count'})"
      ],
      "id": "worthy-angle",
      "execution_count": null,
      "outputs": [
        {
          "output_type": "stream",
          "text": [
            "CPU times: user 2.64 s, sys: 826 ms, total: 3.47 s\n",
            "Wall time: 26.2 s\n"
          ],
          "name": "stdout"
        },
        {
          "output_type": "execute_result",
          "data": {
            "text/html": [
              "<table>\n",
              "<thead>\n",
              "<tr><th>#                            </th><th>Origin  </th><th>Dest  </th><th style=\"text-align: right;\">  Distance</th><th style=\"text-align: right;\">  count</th></tr>\n",
              "</thead>\n",
              "<tbody>\n",
              "<tr><td><i style='opacity: 0.6'>0</i></td><td>&#x27;ATL&#x27;   </td><td>&#x27;HNL&#x27; </td><td style=\"text-align: right;\">      4502</td><td style=\"text-align: right;\">   5187</td></tr>\n",
              "<tr><td><i style='opacity: 0.6'>1</i></td><td>&#x27;HNL&#x27;   </td><td>&#x27;ATL&#x27; </td><td style=\"text-align: right;\">      4502</td><td style=\"text-align: right;\">   5302</td></tr>\n",
              "<tr><td><i style='opacity: 0.6'>2</i></td><td>&#x27;HNL&#x27;   </td><td>&#x27;EWR&#x27; </td><td style=\"text-align: right;\">      4962</td><td style=\"text-align: right;\">   3808</td></tr>\n",
              "<tr><td><i style='opacity: 0.6'>3</i></td><td>&#x27;EWR&#x27;   </td><td>&#x27;HNL&#x27; </td><td style=\"text-align: right;\">      4962</td><td style=\"text-align: right;\">   3801</td></tr>\n",
              "</tbody>\n",
              "</table>"
            ],
            "text/plain": [
              "  #  Origin    Dest      Distance    count\n",
              "  0  'ATL'     'HNL'         4502     5187\n",
              "  1  'HNL'     'ATL'         4502     5302\n",
              "  2  'HNL'     'EWR'         4962     3808\n",
              "  3  'EWR'     'HNL'         4962     3801"
            ]
          },
          "metadata": {
            "tags": []
          },
          "execution_count": 6
        }
      ]
    },
    {
      "cell_type": "markdown",
      "metadata": {
        "id": "arabic-welding"
      },
      "source": [
        "# 3. Machine Learning @ Scale & Locally "
      ],
      "id": "arabic-welding"
    },
    {
      "cell_type": "code",
      "metadata": {
        "id": "czech-sociology",
        "outputId": "a6fa7a4d-1747-40b7-bbcc-f1c8ad430f77"
      },
      "source": [
        "df_train, df_test = flights.ml.train_test_split(test_size=0.2, verbose=False)\n",
        "print(f\"Train Set has {round(df_train.shape[0]/1e6,0)} million rows.\")"
      ],
      "id": "czech-sociology",
      "execution_count": null,
      "outputs": [
        {
          "output_type": "stream",
          "text": [
            "Train Set has 99.0 million rows.\n"
          ],
          "name": "stdout"
        }
      ]
    },
    {
      "cell_type": "code",
      "metadata": {
        "id": "electoral-improvement"
      },
      "source": [
        "features = [\"Month\",\"DayofMonth\",\"DayOfWeek\",\"TailNum\",\"Origin\",\"Dest\",\"DepDelay\"]\n",
        "target = \"DepDelay\"\n",
        "cat_features = [\"Month\",\"DayofMonth\",\"DayOfWeek\",\"Origin\",\"Dest\"]"
      ],
      "id": "electoral-improvement",
      "execution_count": null,
      "outputs": []
    },
    {
      "cell_type": "code",
      "metadata": {
        "id": "unnecessary-arabic"
      },
      "source": [
        "df_train = df_train[features]\n",
        "df_test = df_test[features]"
      ],
      "id": "unnecessary-arabic",
      "execution_count": null,
      "outputs": []
    },
    {
      "cell_type": "code",
      "metadata": {
        "id": "interim-corrections",
        "outputId": "87791c99-27ac-41d9-b2e0-a698bebfd863"
      },
      "source": [
        "df_train"
      ],
      "id": "interim-corrections",
      "execution_count": null,
      "outputs": [
        {
          "output_type": "execute_result",
          "data": {
            "text/html": [
              "<table>\n",
              "<thead>\n",
              "<tr><th>#                                     </th><th>Month  </th><th>DayofMonth  </th><th>DayOfWeek  </th><th>TailNum  </th><th>Origin  </th><th>Dest  </th><th>DepDelay  </th></tr>\n",
              "</thead>\n",
              "<tbody>\n",
              "<tr><td><i style='opacity: 0.6'>0</i>         </td><td>7      </td><td>19          </td><td>7          </td><td>&#x27;nan&#x27;    </td><td>&#x27;FAT&#x27;   </td><td>&#x27;RNO&#x27; </td><td>1.0       </td></tr>\n",
              "<tr><td><i style='opacity: 0.6'>1</i>         </td><td>7      </td><td>20          </td><td>1          </td><td>&#x27;nan&#x27;    </td><td>&#x27;FAT&#x27;   </td><td>&#x27;RNO&#x27; </td><td>35.0      </td></tr>\n",
              "<tr><td><i style='opacity: 0.6'>2</i>         </td><td>7      </td><td>21          </td><td>2          </td><td>&#x27;nan&#x27;    </td><td>&#x27;FAT&#x27;   </td><td>&#x27;RNO&#x27; </td><td>0.0       </td></tr>\n",
              "<tr><td><i style='opacity: 0.6'>3</i>         </td><td>7      </td><td>22          </td><td>3          </td><td>&#x27;nan&#x27;    </td><td>&#x27;FAT&#x27;   </td><td>&#x27;RNO&#x27; </td><td>-1.0      </td></tr>\n",
              "<tr><td><i style='opacity: 0.6'>4</i>         </td><td>7      </td><td>23          </td><td>4          </td><td>&#x27;nan&#x27;    </td><td>&#x27;FAT&#x27;   </td><td>&#x27;RNO&#x27; </td><td>42.0      </td></tr>\n",
              "<tr><td>...                                   </td><td>...    </td><td>...         </td><td>...        </td><td>...      </td><td>...     </td><td>...   </td><td>...       </td></tr>\n",
              "<tr><td><i style='opacity: 0.6'>98,827,970</i></td><td>12     </td><td>13          </td><td>6          </td><td>&#x27;N646DL&#x27; </td><td>&#x27;ATL&#x27;   </td><td>&#x27;IAD&#x27; </td><td>3.0       </td></tr>\n",
              "<tr><td><i style='opacity: 0.6'>98,827,971</i></td><td>12     </td><td>13          </td><td>6          </td><td>&#x27;N908DL&#x27; </td><td>&#x27;ATL&#x27;   </td><td>&#x27;SAT&#x27; </td><td>-1.0      </td></tr>\n",
              "<tr><td><i style='opacity: 0.6'>98,827,972</i></td><td>12     </td><td>13          </td><td>6          </td><td>&#x27;N671DN&#x27; </td><td>&#x27;PBI&#x27;   </td><td>&#x27;ATL&#x27; </td><td>-5.0      </td></tr>\n",
              "<tr><td><i style='opacity: 0.6'>98,827,973</i></td><td>12     </td><td>13          </td><td>6          </td><td>&#x27;N646DL&#x27; </td><td>&#x27;IAD&#x27;   </td><td>&#x27;ATL&#x27; </td><td>11.0      </td></tr>\n",
              "<tr><td><i style='opacity: 0.6'>98,827,974</i></td><td>12     </td><td>13          </td><td>6          </td><td>&#x27;N908DL&#x27; </td><td>&#x27;SAT&#x27;   </td><td>&#x27;ATL&#x27; </td><td>7.0       </td></tr>\n",
              "</tbody>\n",
              "</table>"
            ],
            "text/plain": [
              "#           Month    DayofMonth    DayOfWeek    TailNum    Origin    Dest    DepDelay\n",
              "0           7        19            7            'nan'      'FAT'     'RNO'   1.0\n",
              "1           7        20            1            'nan'      'FAT'     'RNO'   35.0\n",
              "2           7        21            2            'nan'      'FAT'     'RNO'   0.0\n",
              "3           7        22            3            'nan'      'FAT'     'RNO'   -1.0\n",
              "4           7        23            4            'nan'      'FAT'     'RNO'   42.0\n",
              "...         ...      ...           ...          ...        ...       ...     ...\n",
              "98,827,970  12       13            6            'N646DL'   'ATL'     'IAD'   3.0\n",
              "98,827,971  12       13            6            'N908DL'   'ATL'     'SAT'   -1.0\n",
              "98,827,972  12       13            6            'N671DN'   'PBI'     'ATL'   -5.0\n",
              "98,827,973  12       13            6            'N646DL'   'IAD'     'ATL'   11.0\n",
              "98,827,974  12       13            6            'N908DL'   'SAT'     'ATL'   7.0"
            ]
          },
          "metadata": {
            "tags": []
          },
          "execution_count": 11
        }
      ]
    },
    {
      "cell_type": "code",
      "metadata": {
        "id": "organic-swift",
        "outputId": "8550f38f-f10e-4263-b7b3-bb6cd71b3d24"
      },
      "source": [
        "%%time\n",
        "df_train.describe()"
      ],
      "id": "organic-swift",
      "execution_count": null,
      "outputs": [
        {
          "output_type": "stream",
          "text": [
            "CPU times: user 21.3 s, sys: 6.08 s, total: 27.4 s\n",
            "Wall time: 2min 56s\n"
          ],
          "name": "stdout"
        },
        {
          "output_type": "execute_result",
          "data": {
            "text/html": [
              "<div>\n",
              "<style scoped>\n",
              "    .dataframe tbody tr th:only-of-type {\n",
              "        vertical-align: middle;\n",
              "    }\n",
              "\n",
              "    .dataframe tbody tr th {\n",
              "        vertical-align: top;\n",
              "    }\n",
              "\n",
              "    .dataframe thead th {\n",
              "        text-align: right;\n",
              "    }\n",
              "</style>\n",
              "<table border=\"1\" class=\"dataframe\">\n",
              "  <thead>\n",
              "    <tr style=\"text-align: right;\">\n",
              "      <th></th>\n",
              "      <th>Month</th>\n",
              "      <th>DayofMonth</th>\n",
              "      <th>DayOfWeek</th>\n",
              "      <th>TailNum</th>\n",
              "      <th>Origin</th>\n",
              "      <th>Dest</th>\n",
              "      <th>DepDelay</th>\n",
              "    </tr>\n",
              "  </thead>\n",
              "  <tbody>\n",
              "    <tr>\n",
              "      <th>data_type</th>\n",
              "      <td>int64</td>\n",
              "      <td>int64</td>\n",
              "      <td>int64</td>\n",
              "      <td>string</td>\n",
              "      <td>string</td>\n",
              "      <td>string</td>\n",
              "      <td>float64</td>\n",
              "    </tr>\n",
              "    <tr>\n",
              "      <th>count</th>\n",
              "      <td>98827975</td>\n",
              "      <td>98827975</td>\n",
              "      <td>98827975</td>\n",
              "      <td>98442555</td>\n",
              "      <td>98827975</td>\n",
              "      <td>98827975</td>\n",
              "      <td>96788650</td>\n",
              "    </tr>\n",
              "    <tr>\n",
              "      <th>NA</th>\n",
              "      <td>0</td>\n",
              "      <td>0</td>\n",
              "      <td>0</td>\n",
              "      <td>385420</td>\n",
              "      <td>0</td>\n",
              "      <td>0</td>\n",
              "      <td>2039325</td>\n",
              "    </tr>\n",
              "    <tr>\n",
              "      <th>mean</th>\n",
              "      <td>6.5784710149125285</td>\n",
              "      <td>15.72339076056147</td>\n",
              "      <td>3.94076323024933</td>\n",
              "      <td>--</td>\n",
              "      <td>--</td>\n",
              "      <td>--</td>\n",
              "      <td>8.520332683635942</td>\n",
              "    </tr>\n",
              "    <tr>\n",
              "      <th>std</th>\n",
              "      <td>3.43204</td>\n",
              "      <td>8.787011</td>\n",
              "      <td>1.990207</td>\n",
              "      <td>--</td>\n",
              "      <td>--</td>\n",
              "      <td>--</td>\n",
              "      <td>29.911976</td>\n",
              "    </tr>\n",
              "    <tr>\n",
              "      <th>min</th>\n",
              "      <td>1</td>\n",
              "      <td>1</td>\n",
              "      <td>1</td>\n",
              "      <td>--</td>\n",
              "      <td>--</td>\n",
              "      <td>--</td>\n",
              "      <td>-1410.0</td>\n",
              "    </tr>\n",
              "    <tr>\n",
              "      <th>max</th>\n",
              "      <td>12</td>\n",
              "      <td>31</td>\n",
              "      <td>7</td>\n",
              "      <td>--</td>\n",
              "      <td>--</td>\n",
              "      <td>--</td>\n",
              "      <td>2601.0</td>\n",
              "    </tr>\n",
              "  </tbody>\n",
              "</table>\n",
              "</div>"
            ],
            "text/plain": [
              "                        Month         DayofMonth         DayOfWeek   TailNum  \\\n",
              "data_type               int64              int64             int64    string   \n",
              "count                98827975           98827975          98827975  98442555   \n",
              "NA                          0                  0                 0    385420   \n",
              "mean       6.5784710149125285  15.72339076056147  3.94076323024933        --   \n",
              "std                   3.43204           8.787011          1.990207        --   \n",
              "min                         1                  1                 1        --   \n",
              "max                        12                 31                 7        --   \n",
              "\n",
              "             Origin      Dest           DepDelay  \n",
              "data_type    string    string            float64  \n",
              "count      98827975  98827975           96788650  \n",
              "NA                0         0            2039325  \n",
              "mean             --        --  8.520332683635942  \n",
              "std              --        --          29.911976  \n",
              "min              --        --            -1410.0  \n",
              "max              --        --             2601.0  "
            ]
          },
          "metadata": {
            "tags": []
          },
          "execution_count": 12
        }
      ]
    },
    {
      "cell_type": "code",
      "metadata": {
        "id": "incoming-corporation"
      },
      "source": [
        "df_train = df_train.dropna()\n",
        "df_test = df_test.dropna()"
      ],
      "id": "incoming-corporation",
      "execution_count": null,
      "outputs": []
    },
    {
      "cell_type": "code",
      "metadata": {
        "id": "alert-joyce",
        "outputId": "ad5113e5-3f58-4c1a-9357-73e15feab383"
      },
      "source": [
        "df_train.shape,df_test.shape"
      ],
      "id": "alert-joyce",
      "execution_count": null,
      "outputs": [
        {
          "output_type": "execute_result",
          "data": {
            "text/plain": [
              "((96544931, 7), (24444183, 7))"
            ]
          },
          "metadata": {
            "tags": []
          },
          "execution_count": 14
        }
      ]
    },
    {
      "cell_type": "markdown",
      "metadata": {
        "id": "signal-centre"
      },
      "source": [
        "## 3.1 Feature Transformations"
      ],
      "id": "signal-centre"
    },
    {
      "cell_type": "code",
      "metadata": {
        "id": "clear-prayer",
        "outputId": "e9c475aa-5d64-4be7-eeb7-78364f4dd15c"
      },
      "source": [
        "%%time\n",
        "bayes_encoder = vaex.ml.BayesianTargetEncoder(features= cat_features, \n",
        "                                              target=target)\n",
        "\n",
        "df_train = bayes_encoder.fit_transform(df_train)\n",
        "df_train"
      ],
      "id": "clear-prayer",
      "execution_count": null,
      "outputs": [
        {
          "output_type": "stream",
          "text": [
            "CPU times: user 1min 28s, sys: 9.22 s, total: 1min 37s\n",
            "Wall time: 5min 17s\n"
          ],
          "name": "stdout"
        },
        {
          "output_type": "execute_result",
          "data": {
            "text/html": [
              "<table>\n",
              "<thead>\n",
              "<tr><th>#                                     </th><th>Month  </th><th>DayofMonth  </th><th>DayOfWeek  </th><th>TailNum  </th><th>Origin  </th><th>Dest  </th><th>DepDelay  </th><th>mean_encoded_Month  </th><th>mean_encoded_DayofMonth  </th><th>mean_encoded_DayOfWeek  </th><th>mean_encoded_Origin  </th><th>mean_encoded_Dest  </th></tr>\n",
              "</thead>\n",
              "<tbody>\n",
              "<tr><td><i style='opacity: 0.6'>0</i>         </td><td>7      </td><td>19          </td><td>7          </td><td>&#x27;nan&#x27;    </td><td>&#x27;FAT&#x27;   </td><td>&#x27;RNO&#x27; </td><td>1.0       </td><td>10.418567462224562  </td><td>9.414129876534204        </td><td>8.947884812292255       </td><td>5.755802763392751    </td><td>9.573642125251586  </td></tr>\n",
              "<tr><td><i style='opacity: 0.6'>1</i>         </td><td>7      </td><td>20          </td><td>1          </td><td>&#x27;nan&#x27;    </td><td>&#x27;FAT&#x27;   </td><td>&#x27;RNO&#x27; </td><td>35.0      </td><td>10.418567462224562  </td><td>8.88287956797837         </td><td>8.37606377810181        </td><td>5.755802763392751    </td><td>9.573642125251586  </td></tr>\n",
              "<tr><td><i style='opacity: 0.6'>2</i>         </td><td>7      </td><td>21          </td><td>2          </td><td>&#x27;nan&#x27;    </td><td>&#x27;FAT&#x27;   </td><td>&#x27;RNO&#x27; </td><td>0.0       </td><td>10.418567462224562  </td><td>9.374941856681339        </td><td>7.011983756390205       </td><td>5.755802763392751    </td><td>9.573642125251586  </td></tr>\n",
              "<tr><td><i style='opacity: 0.6'>3</i>         </td><td>7      </td><td>22          </td><td>3          </td><td>&#x27;nan&#x27;    </td><td>&#x27;FAT&#x27;   </td><td>&#x27;RNO&#x27; </td><td>-1.0      </td><td>10.418567462224562  </td><td>9.863194128863165        </td><td>7.863812029589218       </td><td>5.755802763392751    </td><td>9.573642125251586  </td></tr>\n",
              "<tr><td><i style='opacity: 0.6'>4</i>         </td><td>7      </td><td>23          </td><td>4          </td><td>&#x27;nan&#x27;    </td><td>&#x27;FAT&#x27;   </td><td>&#x27;RNO&#x27; </td><td>42.0      </td><td>10.418567462224562  </td><td>9.088171353789297        </td><td>9.589669989236226       </td><td>5.755802763392751    </td><td>9.573642125251586  </td></tr>\n",
              "<tr><td>...                                   </td><td>...    </td><td>...         </td><td>...        </td><td>...      </td><td>...     </td><td>...   </td><td>...       </td><td>...                 </td><td>...                      </td><td>...                     </td><td>...                  </td><td>...                </td></tr>\n",
              "<tr><td><i style='opacity: 0.6'>96,544,926</i></td><td>12     </td><td>13          </td><td>6          </td><td>&#x27;N646DL&#x27; </td><td>&#x27;ATL&#x27;   </td><td>&#x27;IAD&#x27; </td><td>3.0       </td><td>11.723357643157794  </td><td>8.314252183104161        </td><td>7.097430572403026       </td><td>11.160642143186545   </td><td>8.579877845626042  </td></tr>\n",
              "<tr><td><i style='opacity: 0.6'>96,544,927</i></td><td>12     </td><td>13          </td><td>6          </td><td>&#x27;N908DL&#x27; </td><td>&#x27;ATL&#x27;   </td><td>&#x27;SAT&#x27; </td><td>-1.0      </td><td>11.723357643157794  </td><td>8.314252183104161        </td><td>7.097430572403026       </td><td>11.160642143186545   </td><td>8.830743702300287  </td></tr>\n",
              "<tr><td><i style='opacity: 0.6'>96,544,928</i></td><td>12     </td><td>13          </td><td>6          </td><td>&#x27;N671DN&#x27; </td><td>&#x27;PBI&#x27;   </td><td>&#x27;ATL&#x27; </td><td>-5.0      </td><td>11.723357643157794  </td><td>8.314252183104161        </td><td>7.097430572403026       </td><td>8.01297852142236     </td><td>9.177049212340295  </td></tr>\n",
              "<tr><td><i style='opacity: 0.6'>96,544,929</i></td><td>12     </td><td>13          </td><td>6          </td><td>&#x27;N646DL&#x27; </td><td>&#x27;IAD&#x27;   </td><td>&#x27;ATL&#x27; </td><td>11.0      </td><td>11.723357643157794  </td><td>8.314252183104161        </td><td>7.097430572403026       </td><td>10.085413187395309   </td><td>9.177049212340295  </td></tr>\n",
              "<tr><td><i style='opacity: 0.6'>96,544,930</i></td><td>12     </td><td>13          </td><td>6          </td><td>&#x27;N908DL&#x27; </td><td>&#x27;SAT&#x27;   </td><td>&#x27;ATL&#x27; </td><td>7.0       </td><td>11.723357643157794  </td><td>8.314252183104161        </td><td>7.097430572403026       </td><td>6.08279315410294     </td><td>9.177049212340295  </td></tr>\n",
              "</tbody>\n",
              "</table>"
            ],
            "text/plain": [
              "#           Month    DayofMonth    DayOfWeek    TailNum    Origin    Dest    DepDelay    mean_encoded_Month    mean_encoded_DayofMonth    mean_encoded_DayOfWeek    mean_encoded_Origin    mean_encoded_Dest\n",
              "0           7        19            7            'nan'      'FAT'     'RNO'   1.0         10.418567462224562    9.414129876534204          8.947884812292255         5.755802763392751      9.573642125251586\n",
              "1           7        20            1            'nan'      'FAT'     'RNO'   35.0        10.418567462224562    8.88287956797837           8.37606377810181          5.755802763392751      9.573642125251586\n",
              "2           7        21            2            'nan'      'FAT'     'RNO'   0.0         10.418567462224562    9.374941856681339          7.011983756390205         5.755802763392751      9.573642125251586\n",
              "3           7        22            3            'nan'      'FAT'     'RNO'   -1.0        10.418567462224562    9.863194128863165          7.863812029589218         5.755802763392751      9.573642125251586\n",
              "4           7        23            4            'nan'      'FAT'     'RNO'   42.0        10.418567462224562    9.088171353789297          9.589669989236226         5.755802763392751      9.573642125251586\n",
              "...         ...      ...           ...          ...        ...       ...     ...         ...                   ...                        ...                       ...                    ...\n",
              "96,544,926  12       13            6            'N646DL'   'ATL'     'IAD'   3.0         11.723357643157794    8.314252183104161          7.097430572403026         11.160642143186545     8.579877845626042\n",
              "96,544,927  12       13            6            'N908DL'   'ATL'     'SAT'   -1.0        11.723357643157794    8.314252183104161          7.097430572403026         11.160642143186545     8.830743702300287\n",
              "96,544,928  12       13            6            'N671DN'   'PBI'     'ATL'   -5.0        11.723357643157794    8.314252183104161          7.097430572403026         8.01297852142236       9.177049212340295\n",
              "96,544,929  12       13            6            'N646DL'   'IAD'     'ATL'   11.0        11.723357643157794    8.314252183104161          7.097430572403026         10.085413187395309     9.177049212340295\n",
              "96,544,930  12       13            6            'N908DL'   'SAT'     'ATL'   7.0         11.723357643157794    8.314252183104161          7.097430572403026         6.08279315410294       9.177049212340295"
            ]
          },
          "metadata": {
            "tags": []
          },
          "execution_count": 15
        }
      ]
    },
    {
      "cell_type": "code",
      "metadata": {
        "scrolled": true,
        "id": "secret-trading",
        "outputId": "6d76a1aa-efc0-479f-9782-d8bde7196326"
      },
      "source": [
        "final_features = (df_train.get_column_names(regex=\"mean_encoded*\"))\n",
        "all_cols = final_features + [target]\n",
        "all_cols,final_features"
      ],
      "id": "secret-trading",
      "execution_count": null,
      "outputs": [
        {
          "output_type": "execute_result",
          "data": {
            "text/plain": [
              "(['mean_encoded_Month',\n",
              "  'mean_encoded_DayofMonth',\n",
              "  'mean_encoded_DayOfWeek',\n",
              "  'mean_encoded_Origin',\n",
              "  'mean_encoded_Dest',\n",
              "  'DepDelay'],\n",
              " ['mean_encoded_Month',\n",
              "  'mean_encoded_DayofMonth',\n",
              "  'mean_encoded_DayOfWeek',\n",
              "  'mean_encoded_Origin',\n",
              "  'mean_encoded_Dest'])"
            ]
          },
          "metadata": {
            "tags": []
          },
          "execution_count": 16
        }
      ]
    },
    {
      "cell_type": "code",
      "metadata": {
        "id": "hired-merit",
        "outputId": "f215e1ab-5789-47c0-f394-f889ec4005f8"
      },
      "source": [
        "df_train = df_train[all_cols]\n",
        "df_train"
      ],
      "id": "hired-merit",
      "execution_count": null,
      "outputs": [
        {
          "output_type": "execute_result",
          "data": {
            "text/html": [
              "<table>\n",
              "<thead>\n",
              "<tr><th>#                                     </th><th>mean_encoded_Month  </th><th>mean_encoded_DayofMonth  </th><th>mean_encoded_DayOfWeek  </th><th>mean_encoded_Origin  </th><th>mean_encoded_Dest  </th><th>DepDelay  </th></tr>\n",
              "</thead>\n",
              "<tbody>\n",
              "<tr><td><i style='opacity: 0.6'>0</i>         </td><td>10.418567462224562  </td><td>9.414129876534204        </td><td>8.947884812292255       </td><td>5.755802763392751    </td><td>9.573642125251586  </td><td>1.0       </td></tr>\n",
              "<tr><td><i style='opacity: 0.6'>1</i>         </td><td>10.418567462224562  </td><td>8.88287956797837         </td><td>8.37606377810181        </td><td>5.755802763392751    </td><td>9.573642125251586  </td><td>35.0      </td></tr>\n",
              "<tr><td><i style='opacity: 0.6'>2</i>         </td><td>10.418567462224562  </td><td>9.374941856681339        </td><td>7.011983756390205       </td><td>5.755802763392751    </td><td>9.573642125251586  </td><td>0.0       </td></tr>\n",
              "<tr><td><i style='opacity: 0.6'>3</i>         </td><td>10.418567462224562  </td><td>9.863194128863165        </td><td>7.863812029589218       </td><td>5.755802763392751    </td><td>9.573642125251586  </td><td>-1.0      </td></tr>\n",
              "<tr><td><i style='opacity: 0.6'>4</i>         </td><td>10.418567462224562  </td><td>9.088171353789297        </td><td>9.589669989236226       </td><td>5.755802763392751    </td><td>9.573642125251586  </td><td>42.0      </td></tr>\n",
              "<tr><td>...                                   </td><td>...                 </td><td>...                      </td><td>...                     </td><td>...                  </td><td>...                </td><td>...       </td></tr>\n",
              "<tr><td><i style='opacity: 0.6'>96,544,926</i></td><td>11.723357643157794  </td><td>8.314252183104161        </td><td>7.097430572403026       </td><td>11.160642143186545   </td><td>8.579877845626042  </td><td>3.0       </td></tr>\n",
              "<tr><td><i style='opacity: 0.6'>96,544,927</i></td><td>11.723357643157794  </td><td>8.314252183104161        </td><td>7.097430572403026       </td><td>11.160642143186545   </td><td>8.830743702300287  </td><td>-1.0      </td></tr>\n",
              "<tr><td><i style='opacity: 0.6'>96,544,928</i></td><td>11.723357643157794  </td><td>8.314252183104161        </td><td>7.097430572403026       </td><td>8.01297852142236     </td><td>9.177049212340295  </td><td>-5.0      </td></tr>\n",
              "<tr><td><i style='opacity: 0.6'>96,544,929</i></td><td>11.723357643157794  </td><td>8.314252183104161        </td><td>7.097430572403026       </td><td>10.085413187395309   </td><td>9.177049212340295  </td><td>11.0      </td></tr>\n",
              "<tr><td><i style='opacity: 0.6'>96,544,930</i></td><td>11.723357643157794  </td><td>8.314252183104161        </td><td>7.097430572403026       </td><td>6.08279315410294     </td><td>9.177049212340295  </td><td>7.0       </td></tr>\n",
              "</tbody>\n",
              "</table>"
            ],
            "text/plain": [
              "#           mean_encoded_Month    mean_encoded_DayofMonth    mean_encoded_DayOfWeek    mean_encoded_Origin    mean_encoded_Dest    DepDelay\n",
              "0           10.418567462224562    9.414129876534204          8.947884812292255         5.755802763392751      9.573642125251586    1.0\n",
              "1           10.418567462224562    8.88287956797837           8.37606377810181          5.755802763392751      9.573642125251586    35.0\n",
              "2           10.418567462224562    9.374941856681339          7.011983756390205         5.755802763392751      9.573642125251586    0.0\n",
              "3           10.418567462224562    9.863194128863165          7.863812029589218         5.755802763392751      9.573642125251586    -1.0\n",
              "4           10.418567462224562    9.088171353789297          9.589669989236226         5.755802763392751      9.573642125251586    42.0\n",
              "...         ...                   ...                        ...                       ...                    ...                  ...\n",
              "96,544,926  11.723357643157794    8.314252183104161          7.097430572403026         11.160642143186545     8.579877845626042    3.0\n",
              "96,544,927  11.723357643157794    8.314252183104161          7.097430572403026         11.160642143186545     8.830743702300287    -1.0\n",
              "96,544,928  11.723357643157794    8.314252183104161          7.097430572403026         8.01297852142236       9.177049212340295    -5.0\n",
              "96,544,929  11.723357643157794    8.314252183104161          7.097430572403026         10.085413187395309     9.177049212340295    11.0\n",
              "96,544,930  11.723357643157794    8.314252183104161          7.097430572403026         6.08279315410294       9.177049212340295    7.0"
            ]
          },
          "metadata": {
            "tags": []
          },
          "execution_count": 17
        }
      ]
    },
    {
      "cell_type": "markdown",
      "metadata": {
        "id": "corrected-opera"
      },
      "source": [
        "## 3.2 Online Learning Model"
      ],
      "id": "corrected-opera"
    },
    {
      "cell_type": "code",
      "metadata": {
        "id": "automatic-words",
        "outputId": "d6ee0634-7877-4204-c3fc-208aa09e029e",
        "colab": {
          "referenced_widgets": [
            "c930ba03556445438e6520ec1c9395b6"
          ]
        }
      },
      "source": [
        "# Base Model\n",
        "model= SGDRegressor(learning_rate = \"constant\",eta0=1e-4)\n",
        "\n",
        "# Vaex Model Wrapper\n",
        "vaex_model = IncrementalPredictor(features=final_features,\n",
        "                                  target=target,\n",
        "                                  model=model,\n",
        "                                  num_epochs=5,\n",
        "                                  shuffle=False,\n",
        "                                  prediction_name=\"Predicted_Departure_Delay\"\n",
        "                                 )\n",
        "\n",
        "vaex_model.fit(df_train,progress=\"widget\")"
      ],
      "id": "automatic-words",
      "execution_count": null,
      "outputs": [
        {
          "output_type": "display_data",
          "data": {
            "application/vnd.jupyter.widget-view+json": {
              "model_id": "c930ba03556445438e6520ec1c9395b6",
              "version_major": 2,
              "version_minor": 0
            },
            "text/plain": [
              "HBox(children=(FloatProgress(value=0.0, max=1.0), Label(value='In progress...')))"
            ]
          },
          "metadata": {
            "tags": []
          }
        }
      ]
    },
    {
      "cell_type": "code",
      "metadata": {
        "id": "living-talent",
        "outputId": "77817907-ae1f-41dc-f9d2-cb4dce10dc99"
      },
      "source": [
        "df_train = vaex_model.transform(df_train)\n",
        "df_train.head(100)[\"DepDelay\",\"Predicted_Departure_Delay\"]"
      ],
      "id": "living-talent",
      "execution_count": null,
      "outputs": [
        {
          "output_type": "execute_result",
          "data": {
            "text/html": [
              "<table>\n",
              "<thead>\n",
              "<tr><th>#                             </th><th>DepDelay  </th><th>Predicted_Departure_Delay  </th></tr>\n",
              "</thead>\n",
              "<tbody>\n",
              "<tr><td><i style='opacity: 0.6'>0</i> </td><td>1.0       </td><td>25.89117967455455          </td></tr>\n",
              "<tr><td><i style='opacity: 0.6'>1</i> </td><td>35.0      </td><td>21.618379562174795         </td></tr>\n",
              "<tr><td><i style='opacity: 0.6'>2</i> </td><td>0.0       </td><td>28.99297588939099          </td></tr>\n",
              "<tr><td><i style='opacity: 0.6'>3</i> </td><td>-1.0      </td><td>32.33119879415561          </td></tr>\n",
              "<tr><td><i style='opacity: 0.6'>4</i> </td><td>42.0      </td><td>21.478434617754047         </td></tr>\n",
              "<tr><td>...                           </td><td>...       </td><td>...                        </td></tr>\n",
              "<tr><td><i style='opacity: 0.6'>95</i></td><td>3.0       </td><td>16.36341966282299          </td></tr>\n",
              "<tr><td><i style='opacity: 0.6'>96</i></td><td>-5.0      </td><td>17.766796900147156         </td></tr>\n",
              "<tr><td><i style='opacity: 0.6'>97</i></td><td>1.0       </td><td>7.75663321302855           </td></tr>\n",
              "<tr><td><i style='opacity: 0.6'>98</i></td><td>15.0      </td><td>5.631430924439776          </td></tr>\n",
              "<tr><td><i style='opacity: 0.6'>99</i></td><td>0.0       </td><td>13.852141068359856         </td></tr>\n",
              "</tbody>\n",
              "</table>"
            ],
            "text/plain": [
              "#    DepDelay    Predicted_Departure_Delay\n",
              "0    1.0         25.89117967455455\n",
              "1    35.0        21.618379562174795\n",
              "2    0.0         28.99297588939099\n",
              "3    -1.0        32.33119879415561\n",
              "4    42.0        21.478434617754047\n",
              "...  ...         ...\n",
              "95   3.0         16.36341966282299\n",
              "96   -5.0        17.766796900147156\n",
              "97   1.0         7.75663321302855\n",
              "98   15.0        5.631430924439776\n",
              "99   0.0         13.852141068359856"
            ]
          },
          "metadata": {
            "tags": []
          },
          "execution_count": 23
        }
      ]
    },
    {
      "cell_type": "markdown",
      "metadata": {
        "id": "opening-museum"
      },
      "source": [
        "## 3.3 Automatic Pipelines Magic"
      ],
      "id": "opening-museum"
    },
    {
      "cell_type": "code",
      "metadata": {
        "id": "sapphire-antique"
      },
      "source": [
        "pipeline = df_train.state_get()"
      ],
      "id": "sapphire-antique",
      "execution_count": null,
      "outputs": []
    },
    {
      "cell_type": "code",
      "metadata": {
        "id": "random-purple",
        "outputId": "6206af08-35b3-4a09-d804-8dbf880f27c3"
      },
      "source": [
        "pipeline"
      ],
      "id": "random-purple",
      "execution_count": null,
      "outputs": [
        {
          "output_type": "execute_result",
          "data": {
            "text/plain": [
              "{'virtual_columns': {'mean_encoded_Month': '_map(__Month, map_key_set, map_choices, use_missing=True, axis=None)',\n",
              "  'mean_encoded_DayOfWeek': '_map(__DayOfWeek, map_key_set_2, map_choices_2, use_missing=True, axis=None)',\n",
              "  'mean_encoded_Dest': '_map(__Dest, map_key_set_4, map_choices_4, use_missing=True, axis=None)',\n",
              "  'mean_encoded_Origin': '_map(__Origin, map_key_set_3, map_choices_3, use_missing=True, axis=None)',\n",
              "  'mean_encoded_DayofMonth': '_map(__DayofMonth, map_key_set_1, map_choices_1, use_missing=True, axis=None)',\n",
              "  '__Predicted_Departure_Delay': 'incremental_prediction_function(mean_encoded_Month, mean_encoded_DayofMonth, mean_encoded_DayOfWeek, mean_encoded_Origin, mean_encoded_Dest)',\n",
              "  'Predicted_Departure_Delay': 'incremental_prediction_function_1(mean_encoded_Month, mean_encoded_DayofMonth, mean_encoded_DayOfWeek, mean_encoded_Origin, mean_encoded_Dest)'},\n",
              " 'column_names': ['mean_encoded_Month',\n",
              "  'mean_encoded_DayofMonth',\n",
              "  'mean_encoded_DayOfWeek',\n",
              "  'mean_encoded_Origin',\n",
              "  'mean_encoded_Dest',\n",
              "  'DepDelay',\n",
              "  '__Dest',\n",
              "  '__DayOfWeek',\n",
              "  '__DayofMonth',\n",
              "  '__Month',\n",
              "  '__TailNum',\n",
              "  '__Origin',\n",
              "  'Predicted_Departure_Delay',\n",
              "  '__Predicted_Departure_Delay'],\n",
              " 'renamed_columns': [('TailNum', '__TailNum'),\n",
              "  ('DayOfWeek', '__DayOfWeek'),\n",
              "  ('DayofMonth', '__DayofMonth'),\n",
              "  ('Origin', '__Origin'),\n",
              "  ('Month', '__Month'),\n",
              "  ('Dest', '__Dest')],\n",
              " 'variables': {'set_Month': <vaex.superutils.ordered_set_int64 at 0x7f562229ae70>,\n",
              "  'set_DayofMonth': <vaex.superutils.ordered_set_int64 at 0x7f5622254870>,\n",
              "  'set_DayOfWeek': <vaex.superutils.ordered_set_int64 at 0x7f5622283170>,\n",
              "  'set_Origin': <vaex.superutils.ordered_set_string at 0x7f5620ee9130>,\n",
              "  'set_Dest': <vaex.superutils.ordered_set_string at 0x7f5620ee7870>,\n",
              "  'map_key_set': <vaex.superutils.ordered_set_int64 at 0x7f562019c070>,\n",
              "  'map_choices': <pyarrow.lib.DoubleArray object at 0x7f5620f169f0>\n",
              "  [\n",
              "    nan,\n",
              "    nan,\n",
              "    11.7234,\n",
              "    9.57844,\n",
              "    9.12851,\n",
              "    8.79143,\n",
              "    9.07529,\n",
              "    5.30833,\n",
              "    6.21034,\n",
              "    11.0421,\n",
              "    10.4186,\n",
              "    7.09156,\n",
              "    7.02645,\n",
              "    6.98678\n",
              "  ],\n",
              "  'map_key_set_1': <vaex.superutils.ordered_set_int64 at 0x7f5620e554f0>,\n",
              "  'map_choices_1': <pyarrow.lib.DoubleArray object at 0x7f5620f16c20>\n",
              "  [\n",
              "    nan,\n",
              "    nan,\n",
              "    9.41413,\n",
              "    8.88288,\n",
              "    9.37494,\n",
              "    9.86319,\n",
              "    9.08817,\n",
              "    8.15669,\n",
              "    8.02258,\n",
              "    9.00456,\n",
              "    ...\n",
              "    8.47256,\n",
              "    8.36339,\n",
              "    8.60403,\n",
              "    8.31425,\n",
              "    8.9403,\n",
              "    9.16981,\n",
              "    9.1558,\n",
              "    9.11127,\n",
              "    9.04438,\n",
              "    7.70637\n",
              "  ],\n",
              "  'map_key_set_2': <vaex.superutils.ordered_set_int64 at 0x7f56201852b0>,\n",
              "  'map_choices_2': <pyarrow.lib.DoubleArray object at 0x7f5620f16830>\n",
              "  [\n",
              "    nan,\n",
              "    nan,\n",
              "    7.01198,\n",
              "    7.86381,\n",
              "    9.58967,\n",
              "    10.6163,\n",
              "    7.09743,\n",
              "    8.94788,\n",
              "    8.37606\n",
              "  ],\n",
              "  'map_key_set_3': <vaex.superutils.ordered_set_string at 0x7f5620178c30>,\n",
              "  'map_choices_3': <pyarrow.lib.DoubleArray object at 0x7f5620f166e0>\n",
              "  [\n",
              "    nan,\n",
              "    nan,\n",
              "    11.0939,\n",
              "    5.61391,\n",
              "    7.38853,\n",
              "    9.31118,\n",
              "    8.51388,\n",
              "    5.68884,\n",
              "    6.21233,\n",
              "    7.74278,\n",
              "    ...\n",
              "    -0.653406,\n",
              "    8.15879,\n",
              "    12.6742,\n",
              "    10.715,\n",
              "    11.1996,\n",
              "    8.43919,\n",
              "    1.1934,\n",
              "    8.5184,\n",
              "    8.24861,\n",
              "    9.73622\n",
              "  ],\n",
              "  'map_key_set_4': <vaex.superutils.ordered_set_string at 0x7f562016e970>,\n",
              "  'map_choices_4': <pyarrow.lib.DoubleArray object at 0x7f5620f16e50>\n",
              "  [\n",
              "    nan,\n",
              "    nan,\n",
              "    8.57988,\n",
              "    7.33176,\n",
              "    9.43266,\n",
              "    13.3894,\n",
              "    7.806,\n",
              "    9.79548,\n",
              "    8.28227,\n",
              "    5.52347,\n",
              "    ...\n",
              "    8.5184,\n",
              "    11.5149,\n",
              "    8.44909,\n",
              "    8.29763,\n",
              "    4.67744,\n",
              "    8.44909,\n",
              "    8.96821,\n",
              "    8.7298,\n",
              "    8.30744,\n",
              "    8.39959\n",
              "  ]},\n",
              " 'functions': {'incremental_prediction_function': {'cls': 'vaex.ml.sklearn.IncrementalPredictor',\n",
              "   'state': {'batch_size': 1000000,\n",
              "    'features': ['mean_encoded_Month',\n",
              "     'mean_encoded_DayofMonth',\n",
              "     'mean_encoded_DayOfWeek',\n",
              "     'mean_encoded_Origin',\n",
              "     'mean_encoded_Dest'],\n",
              "    'model': 'gANjc2tsZWFybi5saW5lYXJfbW9kZWwuX3N0b2NoYXN0aWNfZ3JhZGllbnQKU0dEUmVncmVzc29y\\nCnEAKYFxAX1xAihYBAAAAGxvc3NxA1gMAAAAc3F1YXJlZF9sb3NzcQRYBwAAAHBlbmFsdHlxBVgC\\nAAAAbDJxBlgNAAAAbGVhcm5pbmdfcmF0ZXEHWAgAAABjb25zdGFudHEIWAcAAABlcHNpbG9ucQlH\\nP7mZmZmZmZpYBQAAAGFscGhhcQpHPxo24uscQy1YAQAAAENxC0c/8AAAAAAAAFgIAAAAbDFfcmF0\\naW9xDEc/wzMzMzMzM1gNAAAAZml0X2ludGVyY2VwdHENiFgHAAAAc2h1ZmZsZXEOiFgMAAAAcmFu\\nZG9tX3N0YXRlcQ9OWAcAAAB2ZXJib3NlcRBLAFgEAAAAZXRhMHERRz8aNuLrHEMtWAcAAABwb3dl\\ncl90cRJHP9AAAAAAAABYDgAAAGVhcmx5X3N0b3BwaW5ncROJWBMAAAB2YWxpZGF0aW9uX2ZyYWN0\\naW9ucRRHP7mZmZmZmZpYEAAAAG5faXRlcl9ub19jaGFuZ2VxFUsFWAoAAAB3YXJtX3N0YXJ0cRaJ\\nWAcAAABhdmVyYWdlcReJWAgAAABtYXhfaXRlcnEYTegDWAMAAAB0b2xxGUc/UGJN0vGp/FgOAAAA\\nbl9mZWF0dXJlc19pbl9xGksFWAUAAABjb2VmX3EbY251bXB5LmNvcmUubXVsdGlhcnJheQpfcmVj\\nb25zdHJ1Y3QKcRxjbnVtcHkKbmRhcnJheQpxHUsAhXEeQwFicR+HcSBScSEoSwFLBYVxImNudW1w\\neQpkdHlwZQpxI1gCAAAAZjhxJImIh3ElUnEmKEsDWAEAAAA8cSdOTk5K/////0r/////SwB0cShi\\niUMorSFXdAgx+79AKIElXfgjQBRbu5S43vy/6E+z1/I04z8QZk5zRSrxP3EpdHEqYlgKAAAAaW50\\nZXJjZXB0X3EraBxoHUsAhXEsaB+HcS1ScS4oSwFLAYVxL2gmiUMIDqtx++39R8BxMHRxMWJYAgAA\\nAHRfcTJHQbzFyzAAAABYBwAAAG5faXRlcl9xM0sBWBAAAABfc2tsZWFybl92ZXJzaW9ucTRYBgAA\\nADAuMjQuMXE1dWIu\\n',\n",
              "    'num_epochs': 5,\n",
              "    'partial_fit_kwargs': {},\n",
              "    'prediction_name': 'Predicted_Departure_Delay',\n",
              "    'prediction_type': 'predict',\n",
              "    'shuffle': False,\n",
              "    'target': 'DepDelay'}},\n",
              "  'incremental_prediction_function_1': {'cls': 'vaex.ml.sklearn.IncrementalPredictor',\n",
              "   'state': {'batch_size': 1000000,\n",
              "    'features': ['mean_encoded_Month',\n",
              "     'mean_encoded_DayofMonth',\n",
              "     'mean_encoded_DayOfWeek',\n",
              "     'mean_encoded_Origin',\n",
              "     'mean_encoded_Dest'],\n",
              "    'model': 'gANjc2tsZWFybi5saW5lYXJfbW9kZWwuX3N0b2NoYXN0aWNfZ3JhZGllbnQKU0dEUmVncmVzc29y\\nCnEAKYFxAX1xAihYBAAAAGxvc3NxA1gMAAAAc3F1YXJlZF9sb3NzcQRYBwAAAHBlbmFsdHlxBVgC\\nAAAAbDJxBlgNAAAAbGVhcm5pbmdfcmF0ZXEHWAgAAABjb25zdGFudHEIWAcAAABlcHNpbG9ucQlH\\nP7mZmZmZmZpYBQAAAGFscGhhcQpHPxo24uscQy1YAQAAAENxC0c/8AAAAAAAAFgIAAAAbDFfcmF0\\naW9xDEc/wzMzMzMzM1gNAAAAZml0X2ludGVyY2VwdHENiFgHAAAAc2h1ZmZsZXEOiFgMAAAAcmFu\\nZG9tX3N0YXRlcQ9OWAcAAAB2ZXJib3NlcRBLAFgEAAAAZXRhMHERRz8aNuLrHEMtWAcAAABwb3dl\\ncl90cRJHP9AAAAAAAABYDgAAAGVhcmx5X3N0b3BwaW5ncROJWBMAAAB2YWxpZGF0aW9uX2ZyYWN0\\naW9ucRRHP7mZmZmZmZpYEAAAAG5faXRlcl9ub19jaGFuZ2VxFUsFWAoAAAB3YXJtX3N0YXJ0cRaJ\\nWAcAAABhdmVyYWdlcReJWAgAAABtYXhfaXRlcnEYTegDWAMAAAB0b2xxGUc/UGJN0vGp/FgOAAAA\\nbl9mZWF0dXJlc19pbl9xGksFWAUAAABjb2VmX3EbY251bXB5LmNvcmUubXVsdGlhcnJheQpfcmVj\\nb25zdHJ1Y3QKcRxjbnVtcHkKbmRhcnJheQpxHUsAhXEeQwFicR+HcSBScSEoSwFLBYVxImNudW1w\\neQpkdHlwZQpxI1gCAAAAZjhxJImIh3ElUnEmKEsDWAEAAAA8cSdOTk5K/////0r/////SwB0cShi\\niUMorSFXdAgx+79AKIElXfgjQBRbu5S43vy/6E+z1/I04z8QZk5zRSrxP3EpdHEqYlgKAAAAaW50\\nZXJjZXB0X3EraBxoHUsAhXEsaB+HcS1ScS4oSwFLAYVxL2gmiUMIDqtx++39R8BxMHRxMWJYAgAA\\nAHRfcTJHQbzFyzAAAABYBwAAAG5faXRlcl9xM0sBWBAAAABfc2tsZWFybl92ZXJzaW9ucTRYBgAA\\nADAuMjQuMXE1dWIu\\n',\n",
              "    'num_epochs': 5,\n",
              "    'partial_fit_kwargs': {},\n",
              "    'prediction_name': 'Predicted_Departure_Delay',\n",
              "    'prediction_type': 'predict',\n",
              "    'shuffle': False,\n",
              "    'target': 'DepDelay'}}},\n",
              " 'selections': {'__filter__': {'type': 'expression',\n",
              "   'boolean_expression': '~(((((((isna(__Month) | isna(__DayofMonth)) | isna(__DayOfWeek)) | isna(__TailNum)) | isna(__Origin)) | isna(__Dest)) | isna(DepDelay)))',\n",
              "   'mode': 'and',\n",
              "   'previous_selection': None},\n",
              "  'isna': None,\n",
              "  '__Month': None,\n",
              "  '__DayofMonth': None,\n",
              "  '__DayOfWeek': None,\n",
              "  '__TailNum': None,\n",
              "  '__Origin': None,\n",
              "  '__Dest': None,\n",
              "  'DepDelay': None},\n",
              " 'ucds': {},\n",
              " 'units': {},\n",
              " 'descriptions': {},\n",
              " 'description': None,\n",
              " 'active_range': [0, 98827975]}"
            ]
          },
          "metadata": {
            "tags": []
          },
          "execution_count": 25
        }
      ]
    },
    {
      "cell_type": "code",
      "metadata": {
        "id": "appropriate-injection"
      },
      "source": [
        "df_test.state_set(pipeline)"
      ],
      "id": "appropriate-injection",
      "execution_count": null,
      "outputs": []
    },
    {
      "cell_type": "markdown",
      "metadata": {
        "id": "copyrighted-opportunity"
      },
      "source": [
        "## 3.4 Fast Inference"
      ],
      "id": "copyrighted-opportunity"
    },
    {
      "cell_type": "code",
      "metadata": {
        "scrolled": true,
        "id": "alive-lender",
        "outputId": "fce0cb18-0108-4fc5-d72c-3cb58c2419ad"
      },
      "source": [
        "df_test.sample(20)[final_features + [\"Predicted_Departure_Delay\"]]"
      ],
      "id": "alive-lender",
      "execution_count": null,
      "outputs": [
        {
          "output_type": "execute_result",
          "data": {
            "text/html": [
              "<table>\n",
              "<thead>\n",
              "<tr><th>#                             </th><th>mean_encoded_Month  </th><th>mean_encoded_DayofMonth  </th><th>mean_encoded_DayOfWeek  </th><th>mean_encoded_Origin  </th><th>mean_encoded_Dest  </th><th>Predicted_Departure_Delay  </th></tr>\n",
              "</thead>\n",
              "<tbody>\n",
              "<tr><td><i style='opacity: 0.6'>0</i> </td><td>11.723357643157794  </td><td>7.659928270681211        </td><td>8.947884812292255       </td><td>6.376443004395522    </td><td>6.453997953190668  </td><td>3.1835729040238903         </td></tr>\n",
              "<tr><td><i style='opacity: 0.6'>1</i> </td><td>11.042133233689276  </td><td>8.022578287606114        </td><td>8.947884812292255       </td><td>9.366233139352836    </td><td>8.788104818361726  </td><td>12.260974592954753         </td></tr>\n",
              "<tr><td><i style='opacity: 0.6'>2</i> </td><td>7.091558584105692   </td><td>7.706367617458895        </td><td>7.863812029589218       </td><td>7.7427760354673225   </td><td>8.579877845626042  </td><td>16.575734047643223         </td></tr>\n",
              "<tr><td><i style='opacity: 0.6'>3</i> </td><td>11.723357643157794  </td><td>9.169806452526979        </td><td>7.011983756390205       </td><td>2.973728130904325    </td><td>8.750665912526282  </td><td>22.174484220168154         </td></tr>\n",
              "<tr><td><i style='opacity: 0.6'>4</i> </td><td>5.308326000560051   </td><td>9.155795172832487        </td><td>7.097430572403026       </td><td>6.861085735734224    </td><td>8.929106474094231  </td><td>35.30724117196442          </td></tr>\n",
              "<tr><td>...                           </td><td>...                 </td><td>...                      </td><td>...                     </td><td>...                  </td><td>...                </td><td>...                        </td></tr>\n",
              "<tr><td><i style='opacity: 0.6'>15</i></td><td>6.986778982915546   </td><td>8.070849213954824        </td><td>8.37606377810181        </td><td>11.643050790718577   </td><td>6.408816843669631  </td><td>19.480728929926656         </td></tr>\n",
              "<tr><td><i style='opacity: 0.6'>16</i></td><td>11.723357643157794  </td><td>7.659928270681211        </td><td>7.011983756390205       </td><td>6.886401959905261    </td><td>6.745930741324233  </td><td>7.295940453418822          </td></tr>\n",
              "<tr><td><i style='opacity: 0.6'>17</i></td><td>5.308326000560051   </td><td>8.107813821801342        </td><td>10.616276913973326      </td><td>11.643050790718577   </td><td>11.869361688417849 </td><td>24.518303142072952         </td></tr>\n",
              "<tr><td><i style='opacity: 0.6'>18</i></td><td>10.418567462224562  </td><td>9.169806452526979        </td><td>7.863812029589218       </td><td>8.719192000653726    </td><td>8.77067702960511   </td><td>26.324892416058674         </td></tr>\n",
              "<tr><td><i style='opacity: 0.6'>19</i></td><td>9.128513624586203   </td><td>7.837969084888112        </td><td>10.616276913973326      </td><td>6.871738442538227    </td><td>8.19388533599694   </td><td>8.524651517253332          </td></tr>\n",
              "</tbody>\n",
              "</table>"
            ],
            "text/plain": [
              "#    mean_encoded_Month    mean_encoded_DayofMonth    mean_encoded_DayOfWeek    mean_encoded_Origin    mean_encoded_Dest    Predicted_Departure_Delay\n",
              "0    11.723357643157794    7.659928270681211          8.947884812292255         6.376443004395522      6.453997953190668    3.1835729040238903\n",
              "1    11.042133233689276    8.022578287606114          8.947884812292255         9.366233139352836      8.788104818361726    12.260974592954753\n",
              "2    7.091558584105692     7.706367617458895          7.863812029589218         7.7427760354673225     8.579877845626042    16.575734047643223\n",
              "3    11.723357643157794    9.169806452526979          7.011983756390205         2.973728130904325      8.750665912526282    22.174484220168154\n",
              "4    5.308326000560051     9.155795172832487          7.097430572403026         6.861085735734224      8.929106474094231    35.30724117196442\n",
              "...  ...                   ...                        ...                       ...                    ...                  ...\n",
              "15   6.986778982915546     8.070849213954824          8.37606377810181          11.643050790718577     6.408816843669631    19.480728929926656\n",
              "16   11.723357643157794    7.659928270681211          7.011983756390205         6.886401959905261      6.745930741324233    7.295940453418822\n",
              "17   5.308326000560051     8.107813821801342          10.616276913973326        11.643050790718577     11.869361688417849   24.518303142072952\n",
              "18   10.418567462224562    9.169806452526979          7.863812029589218         8.719192000653726      8.77067702960511     26.324892416058674\n",
              "19   9.128513624586203     7.837969084888112          10.616276913973326        6.871738442538227      8.19388533599694     8.524651517253332"
            ]
          },
          "metadata": {
            "tags": []
          },
          "execution_count": 22
        }
      ]
    },
    {
      "cell_type": "code",
      "metadata": {
        "id": "rural-shelf"
      },
      "source": [
        ""
      ],
      "id": "rural-shelf",
      "execution_count": null,
      "outputs": []
    },
    {
      "cell_type": "code",
      "metadata": {
        "id": "upset-annex"
      },
      "source": [
        ""
      ],
      "id": "upset-annex",
      "execution_count": null,
      "outputs": []
    },
    {
      "cell_type": "code",
      "metadata": {
        "id": "instructional-philadelphia"
      },
      "source": [
        ""
      ],
      "id": "instructional-philadelphia",
      "execution_count": null,
      "outputs": []
    },
    {
      "cell_type": "code",
      "metadata": {
        "id": "literary-proportion"
      },
      "source": [
        ""
      ],
      "id": "literary-proportion",
      "execution_count": null,
      "outputs": []
    },
    {
      "cell_type": "code",
      "metadata": {
        "id": "favorite-graphics"
      },
      "source": [
        ""
      ],
      "id": "favorite-graphics",
      "execution_count": null,
      "outputs": []
    },
    {
      "cell_type": "code",
      "metadata": {
        "id": "wired-pharmaceutical"
      },
      "source": [
        ""
      ],
      "id": "wired-pharmaceutical",
      "execution_count": null,
      "outputs": []
    },
    {
      "cell_type": "code",
      "metadata": {
        "id": "oriented-crash"
      },
      "source": [
        ""
      ],
      "id": "oriented-crash",
      "execution_count": null,
      "outputs": []
    }
  ]
}